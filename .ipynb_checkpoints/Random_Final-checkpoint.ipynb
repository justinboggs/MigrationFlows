{
 "cells": [
  {
   "cell_type": "code",
   "execution_count": 10,
   "metadata": {},
   "outputs": [
    {
     "data": {
      "text/html": [
       "<div>\n",
       "<style scoped>\n",
       "    .dataframe tbody tr th:only-of-type {\n",
       "        vertical-align: middle;\n",
       "    }\n",
       "\n",
       "    .dataframe tbody tr th {\n",
       "        vertical-align: top;\n",
       "    }\n",
       "\n",
       "    .dataframe thead th {\n",
       "        text-align: right;\n",
       "    }\n",
       "</style>\n",
       "<table border=\"1\" class=\"dataframe\">\n",
       "  <thead>\n",
       "    <tr style=\"text-align: right;\">\n",
       "      <th></th>\n",
       "      <th>State</th>\n",
       "      <th>County</th>\n",
       "      <th>Returns Total</th>\n",
       "      <th>Total AGI</th>\n",
       "      <th>Outflow</th>\n",
       "      <th>Outflow AGI</th>\n",
       "      <th>Inflow</th>\n",
       "      <th>Inflow AGI</th>\n",
       "      <th>Net Inflow(Outflow)</th>\n",
       "      <th>Percentage Flow</th>\n",
       "    </tr>\n",
       "  </thead>\n",
       "  <tbody>\n",
       "    <tr>\n",
       "      <td>70</td>\n",
       "      <td>AR</td>\n",
       "      <td>Fulton County</td>\n",
       "      <td>3418</td>\n",
       "      <td>145742</td>\n",
       "      <td>239</td>\n",
       "      <td>7263</td>\n",
       "      <td>352</td>\n",
       "      <td>13347</td>\n",
       "      <td>113</td>\n",
       "      <td>3.306</td>\n",
       "    </tr>\n",
       "    <tr>\n",
       "      <td>1733</td>\n",
       "      <td>SC</td>\n",
       "      <td>Darlington County</td>\n",
       "      <td>21792</td>\n",
       "      <td>1095837</td>\n",
       "      <td>1398</td>\n",
       "      <td>56764</td>\n",
       "      <td>1352</td>\n",
       "      <td>56949</td>\n",
       "      <td>-46</td>\n",
       "      <td>-0.211</td>\n",
       "    </tr>\n",
       "    <tr>\n",
       "      <td>0</td>\n",
       "      <td>NV</td>\n",
       "      <td>Eureka County</td>\n",
       "      <td>556</td>\n",
       "      <td>38167</td>\n",
       "      <td>26</td>\n",
       "      <td>2961</td>\n",
       "      <td>78</td>\n",
       "      <td>4974</td>\n",
       "      <td>52</td>\n",
       "      <td>9.353</td>\n",
       "    </tr>\n",
       "    <tr>\n",
       "      <td>848</td>\n",
       "      <td>SD</td>\n",
       "      <td>McCook County</td>\n",
       "      <td>2070</td>\n",
       "      <td>135214</td>\n",
       "      <td>121</td>\n",
       "      <td>5390</td>\n",
       "      <td>135</td>\n",
       "      <td>6411</td>\n",
       "      <td>14</td>\n",
       "      <td>0.676</td>\n",
       "    </tr>\n",
       "    <tr>\n",
       "      <td>2338</td>\n",
       "      <td>MN</td>\n",
       "      <td>Lac qui Parle County</td>\n",
       "      <td>2693</td>\n",
       "      <td>173083</td>\n",
       "      <td>122</td>\n",
       "      <td>5636</td>\n",
       "      <td>101</td>\n",
       "      <td>4597</td>\n",
       "      <td>-21</td>\n",
       "      <td>-0.780</td>\n",
       "    </tr>\n",
       "    <tr>\n",
       "      <td>...</td>\n",
       "      <td>...</td>\n",
       "      <td>...</td>\n",
       "      <td>...</td>\n",
       "      <td>...</td>\n",
       "      <td>...</td>\n",
       "      <td>...</td>\n",
       "      <td>...</td>\n",
       "      <td>...</td>\n",
       "      <td>...</td>\n",
       "      <td>...</td>\n",
       "    </tr>\n",
       "    <tr>\n",
       "      <td>1670</td>\n",
       "      <td>ND</td>\n",
       "      <td>Ransom County</td>\n",
       "      <td>2102</td>\n",
       "      <td>136821</td>\n",
       "      <td>101</td>\n",
       "      <td>4319</td>\n",
       "      <td>98</td>\n",
       "      <td>4848</td>\n",
       "      <td>-3</td>\n",
       "      <td>-0.143</td>\n",
       "    </tr>\n",
       "    <tr>\n",
       "      <td>2861</td>\n",
       "      <td>SD</td>\n",
       "      <td>Sully County</td>\n",
       "      <td>578</td>\n",
       "      <td>35173</td>\n",
       "      <td>32</td>\n",
       "      <td>1351</td>\n",
       "      <td>20</td>\n",
       "      <td>1061</td>\n",
       "      <td>-12</td>\n",
       "      <td>-2.076</td>\n",
       "    </tr>\n",
       "    <tr>\n",
       "      <td>2099</td>\n",
       "      <td>KY</td>\n",
       "      <td>Rowan County</td>\n",
       "      <td>6595</td>\n",
       "      <td>350064</td>\n",
       "      <td>608</td>\n",
       "      <td>19700</td>\n",
       "      <td>572</td>\n",
       "      <td>19923</td>\n",
       "      <td>-36</td>\n",
       "      <td>-0.546</td>\n",
       "    </tr>\n",
       "    <tr>\n",
       "      <td>1870</td>\n",
       "      <td>IN</td>\n",
       "      <td>Posey County</td>\n",
       "      <td>9530</td>\n",
       "      <td>709841</td>\n",
       "      <td>642</td>\n",
       "      <td>33119</td>\n",
       "      <td>610</td>\n",
       "      <td>33916</td>\n",
       "      <td>-32</td>\n",
       "      <td>-0.336</td>\n",
       "    </tr>\n",
       "    <tr>\n",
       "      <td>764</td>\n",
       "      <td>WA</td>\n",
       "      <td>Benton County</td>\n",
       "      <td>68388</td>\n",
       "      <td>5414669</td>\n",
       "      <td>5338</td>\n",
       "      <td>331343</td>\n",
       "      <td>5870</td>\n",
       "      <td>324704</td>\n",
       "      <td>532</td>\n",
       "      <td>0.778</td>\n",
       "    </tr>\n",
       "  </tbody>\n",
       "</table>\n",
       "<p>300 rows × 10 columns</p>\n",
       "</div>"
      ],
      "text/plain": [
       "     State                County  Returns Total  Total AGI  Outflow  \\\n",
       "70      AR         Fulton County           3418     145742      239   \n",
       "1733    SC     Darlington County          21792    1095837     1398   \n",
       "0       NV         Eureka County            556      38167       26   \n",
       "848     SD         McCook County           2070     135214      121   \n",
       "2338    MN  Lac qui Parle County           2693     173083      122   \n",
       "...    ...                   ...            ...        ...      ...   \n",
       "1670    ND         Ransom County           2102     136821      101   \n",
       "2861    SD          Sully County            578      35173       32   \n",
       "2099    KY          Rowan County           6595     350064      608   \n",
       "1870    IN          Posey County           9530     709841      642   \n",
       "764     WA         Benton County          68388    5414669     5338   \n",
       "\n",
       "      Outflow AGI  Inflow  Inflow AGI  Net Inflow(Outflow)  Percentage Flow  \n",
       "70           7263     352       13347                  113            3.306  \n",
       "1733        56764    1352       56949                  -46           -0.211  \n",
       "0            2961      78        4974                   52            9.353  \n",
       "848          5390     135        6411                   14            0.676  \n",
       "2338         5636     101        4597                  -21           -0.780  \n",
       "...           ...     ...         ...                  ...              ...  \n",
       "1670         4319      98        4848                   -3           -0.143  \n",
       "2861         1351      20        1061                  -12           -2.076  \n",
       "2099        19700     572       19923                  -36           -0.546  \n",
       "1870        33119     610       33916                  -32           -0.336  \n",
       "764        331343    5870      324704                  532            0.778  \n",
       "\n",
       "[300 rows x 10 columns]"
      ]
     },
     "execution_count": 10,
     "metadata": {},
     "output_type": "execute_result"
    }
   ],
   "source": [
    "import numpy as np\n",
    "import pandas as pd\n",
    "import random \n",
    "import matplotlib.pyplot as plt\n",
    "\n",
    "final_flow = \"final_flow_data.csv\"\n",
    "\n",
    "random_df = pd.read_csv(final_flow)\n",
    "\n",
    "df_trimmed1 = random_df.sample(n=300)\n",
    "\n",
    "df_trimmed2 = random_df.sample(n=300)\n",
    "\n",
    "df_trimmed3 = random_df.sample(n=300)\n",
    "\n",
    "df_trimmed4 = random_df.sample(n=300)\n",
    "\n",
    "df_trimmed5 = random_df.sample(n=300)\n",
    "\n",
    "df_trimmed1\n",
    "\n",
    "\n",
    "\n"
   ]
  },
  {
   "cell_type": "code",
   "execution_count": 2,
   "metadata": {},
   "outputs": [],
   "source": [
    "percentages1 = df_trimmed1[\"Percentage Flow\"]\n",
    "percentages2 = df_trimmed2[\"Percentage Flow\"]\n",
    "percentages3 = df_trimmed3[\"Percentage Flow\"]\n",
    "percentages4 = df_trimmed4[\"Percentage Flow\"]\n",
    "percentages5 = df_trimmed5[\"Percentage Flow\"]\n",
    "\n"
   ]
  },
  {
   "cell_type": "code",
   "execution_count": 3,
   "metadata": {},
   "outputs": [
    {
     "data": {
      "image/png": "[encoded data removed]",
      "text/plain": [
       "<Figure size 432x288 with 1 Axes>"
      ]
     },
     "metadata": {
      "needs_background": "light"
     },
     "output_type": "display_data"
    }
   ],
   "source": [
    "fig1, ax1 = plt.subplots()\n",
    "ax1.set_title('Flow Percentages per county')\n",
    "ax1.set_ylabel('Percentage')\n",
    "ax1.boxplot(percentages1)\n",
    "plt.show()"
   ]
  },
  {
   "cell_type": "code",
   "execution_count": 4,
   "metadata": {},
   "outputs": [
    {
     "data": {
      "image/png": "[encoded data removed]",
      "text/plain": [
       "<Figure size 432x288 with 1 Axes>"
      ]
     },
     "metadata": {
      "needs_background": "light"
     },
     "output_type": "display_data"
    }
   ],
   "source": [
    "fig1, ax1 = plt.subplots()\n",
    "ax1.set_title('Flow Percentages per county')\n",
    "ax1.set_ylabel('Percentage')\n",
    "ax1.boxplot(percentages2)\n",
    "plt.show()"
   ]
  },
  {
   "cell_type": "code",
   "execution_count": 5,
   "metadata": {},
   "outputs": [
    {
     "data": {
      "image/png": "[encoded data removed]",
      "text/plain": [
       "<Figure size 432x288 with 1 Axes>"
      ]
     },
     "metadata": {
      "needs_background": "light"
     },
     "output_type": "display_data"
    }
   ],
   "source": [
    "fig1, ax1 = plt.subplots()\n",
    "ax1.set_title('Flow Percentages per county')\n",
    "ax1.set_ylabel('Percentage')\n",
    "ax1.boxplot(percentages3)\n",
    "plt.show()"
   ]
  },
  {
   "cell_type": "code",
   "execution_count": 6,
   "metadata": {},
   "outputs": [
    {
     "data": {
      "image/png": "[encoded data removed]",
      "text/plain": [
       "<Figure size 432x288 with 1 Axes>"
      ]
     },
     "metadata": {
      "needs_background": "light"
     },
     "output_type": "display_data"
    }
   ],
   "source": [
    "fig1, ax1 = plt.subplots()\n",
    "ax1.set_title('Flow Percentages per county')\n",
    "ax1.set_ylabel('Percentage')\n",
    "ax1.boxplot(percentages4)\n",
    "plt.show()"
   ]
  },
  {
   "cell_type": "code",
   "execution_count": 7,
   "metadata": {},
   "outputs": [
    {
     "data": {
      "image/png": "[encoded data removed]",
      "text/plain": [
       "<Figure size 432x288 with 1 Axes>"
      ]
     },
     "metadata": {
      "needs_background": "light"
     },
     "output_type": "display_data"
    }
   ],
   "source": [
    "fig1, ax1 = plt.subplots()\n",
    "ax1.set_title('Flow Percentages per county')\n",
    "ax1.set_ylabel('Percentage')\n",
    "ax1.boxplot(percentages5)\n",
    "plt.show()"
   ]
  },
  {
   "cell_type": "code",
   "execution_count": 14,
   "metadata": {},
   "outputs": [],
   "source": [
    "df_trimmed1.to_csv('sample.csv')"
   ]
  },
  {
   "cell_type": "code",
   "execution_count": null,
   "metadata": {},
   "outputs": [],
   "source": []
  }
 ],
 "metadata": {
  "kernelspec": {
   "display_name": "Python 3",
   "language": "python",
   "name": "python3"
  },
  "language_info": {
   "codemirror_mode": {
    "name": "ipython",
    "version": 3
   },
   "file_extension": ".py",
   "mimetype": "text/x-python",
   "name": "python",
   "nbconvert_exporter": "python",
   "pygments_lexer": "ipython3",
   "version": "3.7.4"
  }
 },
 "nbformat": 4,
 "nbformat_minor": 2
}
