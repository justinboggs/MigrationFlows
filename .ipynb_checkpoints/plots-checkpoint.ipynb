{
 "cells": [
  {
   "cell_type": "code",
   "execution_count": 1,
   "metadata": {},
   "outputs": [],
   "source": [
    "#import dependencies\n",
    "import csv\n",
    "import matplotlib.pyplot as plt\n",
    "import pandas as pd\n",
    "import numpy as np\n",
    "import requests\n",
    "import time\n",
    "from scipy import stats\n",
    "from scipy.stats import linregress\n",
    "import gmaps\n",
    "import os\n",
    "import json\n",
    "import pprint as pprint"
   ]
  },
  {
   "cell_type": "code",
   "execution_count": 3,
   "metadata": {},
   "outputs": [
    {
     "data": {
      "text/html": [
       "<div>\n",
       "<style scoped>\n",
       "    .dataframe tbody tr th:only-of-type {\n",
       "        vertical-align: middle;\n",
       "    }\n",
       "\n",
       "    .dataframe tbody tr th {\n",
       "        vertical-align: top;\n",
       "    }\n",
       "\n",
       "    .dataframe thead th {\n",
       "        text-align: right;\n",
       "    }\n",
       "</style>\n",
       "<table border=\"1\" class=\"dataframe\">\n",
       "  <thead>\n",
       "    <tr style=\"text-align: right;\">\n",
       "      <th></th>\n",
       "      <th>State</th>\n",
       "      <th>County</th>\n",
       "      <th>Returns Total</th>\n",
       "      <th>Total AGI</th>\n",
       "      <th>Outflow</th>\n",
       "      <th>Outflow AGI</th>\n",
       "      <th>Inflow</th>\n",
       "      <th>Inflow AGI</th>\n",
       "      <th>Net Inflow(Outflow)</th>\n",
       "      <th>Flow(%)</th>\n",
       "      <th>Unemployment Rate(%)</th>\n",
       "      <th>1 Bed Average</th>\n",
       "      <th>2 Bed Average</th>\n",
       "      <th>Average Temp (F)</th>\n",
       "    </tr>\n",
       "  </thead>\n",
       "  <tbody>\n",
       "    <tr>\n",
       "      <td>0</td>\n",
       "      <td>CO</td>\n",
       "      <td>Douglas County</td>\n",
       "      <td>115898</td>\n",
       "      <td>16401047</td>\n",
       "      <td>12989</td>\n",
       "      <td>1438525</td>\n",
       "      <td>16067</td>\n",
       "      <td>1541931</td>\n",
       "      <td>3078</td>\n",
       "      <td>2.656</td>\n",
       "      <td>2.9</td>\n",
       "      <td>1226</td>\n",
       "      <td>1543</td>\n",
       "      <td>50.2</td>\n",
       "    </tr>\n",
       "    <tr>\n",
       "      <td>1</td>\n",
       "      <td>ME</td>\n",
       "      <td>Piscataquis County</td>\n",
       "      <td>5832</td>\n",
       "      <td>274080</td>\n",
       "      <td>343</td>\n",
       "      <td>14073</td>\n",
       "      <td>425</td>\n",
       "      <td>17748</td>\n",
       "      <td>82</td>\n",
       "      <td>1.406</td>\n",
       "      <td>4.2</td>\n",
       "      <td>617</td>\n",
       "      <td>708</td>\n",
       "      <td>38.8</td>\n",
       "    </tr>\n",
       "    <tr>\n",
       "      <td>2</td>\n",
       "      <td>KY</td>\n",
       "      <td>Daviess County</td>\n",
       "      <td>35825</td>\n",
       "      <td>2241060</td>\n",
       "      <td>1636</td>\n",
       "      <td>79669</td>\n",
       "      <td>1666</td>\n",
       "      <td>76280</td>\n",
       "      <td>30</td>\n",
       "      <td>0.084</td>\n",
       "      <td>4.0</td>\n",
       "      <td>562</td>\n",
       "      <td>745</td>\n",
       "      <td>57.2</td>\n",
       "    </tr>\n",
       "    <tr>\n",
       "      <td>3</td>\n",
       "      <td>ME</td>\n",
       "      <td>Penobscot County</td>\n",
       "      <td>54471</td>\n",
       "      <td>3239598</td>\n",
       "      <td>3068</td>\n",
       "      <td>148356</td>\n",
       "      <td>3002</td>\n",
       "      <td>139529</td>\n",
       "      <td>-66</td>\n",
       "      <td>-0.121</td>\n",
       "      <td>3.8</td>\n",
       "      <td>668</td>\n",
       "      <td>870</td>\n",
       "      <td>41.7</td>\n",
       "    </tr>\n",
       "    <tr>\n",
       "      <td>4</td>\n",
       "      <td>MA</td>\n",
       "      <td>Middlesex County</td>\n",
       "      <td>624151</td>\n",
       "      <td>86407105</td>\n",
       "      <td>48934</td>\n",
       "      <td>4974179</td>\n",
       "      <td>43495</td>\n",
       "      <td>3823209</td>\n",
       "      <td>-5439</td>\n",
       "      <td>-0.871</td>\n",
       "      <td>2.7</td>\n",
       "      <td>1546</td>\n",
       "      <td>1894</td>\n",
       "      <td>47.1</td>\n",
       "    </tr>\n",
       "  </tbody>\n",
       "</table>\n",
       "</div>"
      ],
      "text/plain": [
       "  State              County  Returns Total  Total AGI  Outflow  Outflow AGI  \\\n",
       "0    CO      Douglas County         115898   16401047    12989      1438525   \n",
       "1    ME  Piscataquis County           5832     274080      343        14073   \n",
       "2    KY      Daviess County          35825    2241060     1636        79669   \n",
       "3    ME    Penobscot County          54471    3239598     3068       148356   \n",
       "4    MA    Middlesex County         624151   86407105    48934      4974179   \n",
       "\n",
       "   Inflow  Inflow AGI  Net Inflow(Outflow)  Flow(%)  Unemployment Rate(%)  \\\n",
       "0   16067     1541931                 3078    2.656                   2.9   \n",
       "1     425       17748                   82    1.406                   4.2   \n",
       "2    1666       76280                   30    0.084                   4.0   \n",
       "3    3002      139529                  -66   -0.121                   3.8   \n",
       "4   43495     3823209                -5439   -0.871                   2.7   \n",
       "\n",
       "   1 Bed Average  2 Bed Average  Average Temp (F)  \n",
       "0           1226           1543              50.2  \n",
       "1            617            708              38.8  \n",
       "2            562            745              57.2  \n",
       "3            668            870              41.7  \n",
       "4           1546           1894              47.1  "
      ]
     },
     "execution_count": 3,
     "metadata": {},
     "output_type": "execute_result"
    }
   ],
   "source": [
    "sample_data = pd.read_csv('output_data/sample_300.csv')\n",
    "sample_data.head()"
   ]
  },
  {
   "cell_type": "code",
   "execution_count": 7,
   "metadata": {},
   "outputs": [],
   "source": [
    "flow_values = sample_data['Flow(%)']\n",
    "employ_values = sample_data['Unemployment Rate(%)']\n",
    "temp_values = sample_data['Average Temp (F)']"
   ]
  },
  {
   "cell_type": "code",
   "execution_count": null,
   "metadata": {},
   "outputs": [],
   "source": []
  },
  {
   "cell_type": "code",
   "execution_count": 8,
   "metadata": {},
   "outputs": [
    {
     "data": {
      "text/plain": [
       "Text(0, 0.5, 'Temperature (F)')"
      ]
     },
     "execution_count": 8,
     "metadata": {},
     "output_type": "execute_result"
    },
    {
     "data": {
      "image/png": "[encoded data removed]",
      "text/plain": [
       "<Figure size 432x288 with 1 Axes>"
      ]
     },
     "metadata": {
      "needs_background": "light"
     },
     "output_type": "display_data"
    }
   ],
   "source": [
    "#latitude vs temperature\n",
    "plt.scatter(flow_values, employ_values, marker='o', facecolors='grey', edgecolors='black')\n",
    "plt.title('Migration Rate vs Unemployment Rate')\n",
    "plt.xlabel('Latitude')\n",
    "plt.ylabel('Temperature (F)')\n",
    "#save the plot to an image file\n",
    "#plt.savefig('output_data/lat_temp_plt.png')"
   ]
  },
  {
   "cell_type": "code",
   "execution_count": 9,
   "metadata": {},
   "outputs": [
    {
     "data": {
      "text/plain": [
       "Text(0, 0.5, 'Temperature (F)')"
      ]
     },
     "execution_count": 9,
     "metadata": {},
     "output_type": "execute_result"
    },
    {
     "data": {
      "image/png": "[encoded data removed]",
      "text/plain": [
       "<Figure size 432x288 with 1 Axes>"
      ]
     },
     "metadata": {
      "needs_background": "light"
     },
     "output_type": "display_data"
    }
   ],
   "source": [
    "#latitude vs temperature\n",
    "plt.scatter(flow_values, temp_values, marker='o', facecolors='grey', edgecolors='black')\n",
    "plt.title('Migration Rate vs Average Temperature (F)')\n",
    "plt.xlabel('Latitude')\n",
    "plt.ylabel('Temperature (F)')\n",
    "#save the plot to an image file\n",
    "#plt.savefig('output_data/lat_temp_plt.png')"
   ]
  },
  {
   "cell_type": "code",
   "execution_count": null,
   "metadata": {},
   "outputs": [],
   "source": []
  }
 ],
 "metadata": {
  "kernelspec": {
   "display_name": "Python 3",
   "language": "python",
   "name": "python3"
  },
  "language_info": {
   "codemirror_mode": {
    "name": "ipython",
    "version": 3
   },
   "file_extension": ".py",
   "mimetype": "text/x-python",
   "name": "python",
   "nbconvert_exporter": "python",
   "pygments_lexer": "ipython3",
   "version": "3.7.4"
  }
 },
 "nbformat": 4,
 "nbformat_minor": 2
}
