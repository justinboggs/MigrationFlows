{
 "cells": [
  {
   "cell_type": "code",
   "execution_count": 2,
   "metadata": {},
   "outputs": [
    {
     "data": {
      "text/html": [
       "<div>\n",
       "<style scoped>\n",
       "    .dataframe tbody tr th:only-of-type {\n",
       "        vertical-align: middle;\n",
       "    }\n",
       "\n",
       "    .dataframe tbody tr th {\n",
       "        vertical-align: top;\n",
       "    }\n",
       "\n",
       "    .dataframe thead th {\n",
       "        text-align: right;\n",
       "    }\n",
       "</style>\n",
       "<table border=\"1\" class=\"dataframe\">\n",
       "  <thead>\n",
       "    <tr style=\"text-align: right;\">\n",
       "      <th></th>\n",
       "      <th>State</th>\n",
       "      <th>County</th>\n",
       "      <th>Returns Total</th>\n",
       "      <th>Total AGI</th>\n",
       "      <th>Outflow</th>\n",
       "      <th>Outflow AGI</th>\n",
       "      <th>Inflow</th>\n",
       "      <th>Inflow AGI</th>\n",
       "      <th>Net Inflow(Outflow)</th>\n",
       "      <th>Percentage Flow</th>\n",
       "    </tr>\n",
       "  </thead>\n",
       "  <tbody>\n",
       "    <tr>\n",
       "      <td>1077</td>\n",
       "      <td>FL</td>\n",
       "      <td>Palm Beach County</td>\n",
       "      <td>553857</td>\n",
       "      <td>61273140</td>\n",
       "      <td>35233</td>\n",
       "      <td>2953481</td>\n",
       "      <td>37476</td>\n",
       "      <td>5417837</td>\n",
       "      <td>2243</td>\n",
       "      <td>0.405</td>\n",
       "    </tr>\n",
       "    <tr>\n",
       "      <td>420</td>\n",
       "      <td>ME</td>\n",
       "      <td>Piscataquis County</td>\n",
       "      <td>5832</td>\n",
       "      <td>274080</td>\n",
       "      <td>343</td>\n",
       "      <td>14073</td>\n",
       "      <td>425</td>\n",
       "      <td>17748</td>\n",
       "      <td>82</td>\n",
       "      <td>1.406</td>\n",
       "    </tr>\n",
       "    <tr>\n",
       "      <td>2623</td>\n",
       "      <td>ND</td>\n",
       "      <td>Grant County</td>\n",
       "      <td>914</td>\n",
       "      <td>45138</td>\n",
       "      <td>33</td>\n",
       "      <td>2028</td>\n",
       "      <td>22</td>\n",
       "      <td>961</td>\n",
       "      <td>-11</td>\n",
       "      <td>-1.204</td>\n",
       "    </tr>\n",
       "    <tr>\n",
       "      <td>658</td>\n",
       "      <td>NC</td>\n",
       "      <td>Lee County</td>\n",
       "      <td>20169</td>\n",
       "      <td>1149838</td>\n",
       "      <td>1747</td>\n",
       "      <td>77209</td>\n",
       "      <td>1943</td>\n",
       "      <td>105291</td>\n",
       "      <td>196</td>\n",
       "      <td>0.972</td>\n",
       "    </tr>\n",
       "    <tr>\n",
       "      <td>1980</td>\n",
       "      <td>ID</td>\n",
       "      <td>Fremont County</td>\n",
       "      <td>4127</td>\n",
       "      <td>191700</td>\n",
       "      <td>409</td>\n",
       "      <td>18075</td>\n",
       "      <td>391</td>\n",
       "      <td>20034</td>\n",
       "      <td>-18</td>\n",
       "      <td>-0.436</td>\n",
       "    </tr>\n",
       "    <tr>\n",
       "      <td>...</td>\n",
       "      <td>...</td>\n",
       "      <td>...</td>\n",
       "      <td>...</td>\n",
       "      <td>...</td>\n",
       "      <td>...</td>\n",
       "      <td>...</td>\n",
       "      <td>...</td>\n",
       "      <td>...</td>\n",
       "      <td>...</td>\n",
       "      <td>...</td>\n",
       "    </tr>\n",
       "    <tr>\n",
       "      <td>1887</td>\n",
       "      <td>GA</td>\n",
       "      <td>Bacon County</td>\n",
       "      <td>3142</td>\n",
       "      <td>153666</td>\n",
       "      <td>187</td>\n",
       "      <td>5131</td>\n",
       "      <td>176</td>\n",
       "      <td>6209</td>\n",
       "      <td>-11</td>\n",
       "      <td>-0.350</td>\n",
       "    </tr>\n",
       "    <tr>\n",
       "      <td>1960</td>\n",
       "      <td>MN</td>\n",
       "      <td>Nicollet County</td>\n",
       "      <td>12251</td>\n",
       "      <td>918488</td>\n",
       "      <td>1238</td>\n",
       "      <td>68672</td>\n",
       "      <td>1187</td>\n",
       "      <td>54618</td>\n",
       "      <td>-51</td>\n",
       "      <td>-0.416</td>\n",
       "    </tr>\n",
       "    <tr>\n",
       "      <td>1269</td>\n",
       "      <td>KY</td>\n",
       "      <td>Wolfe County</td>\n",
       "      <td>1865</td>\n",
       "      <td>72166</td>\n",
       "      <td>107</td>\n",
       "      <td>3560</td>\n",
       "      <td>111</td>\n",
       "      <td>3710</td>\n",
       "      <td>4</td>\n",
       "      <td>0.214</td>\n",
       "    </tr>\n",
       "    <tr>\n",
       "      <td>242</td>\n",
       "      <td>NY</td>\n",
       "      <td>Hamilton County</td>\n",
       "      <td>2082</td>\n",
       "      <td>124074</td>\n",
       "      <td>122</td>\n",
       "      <td>5573</td>\n",
       "      <td>164</td>\n",
       "      <td>9967</td>\n",
       "      <td>42</td>\n",
       "      <td>2.017</td>\n",
       "    </tr>\n",
       "    <tr>\n",
       "      <td>217</td>\n",
       "      <td>NC</td>\n",
       "      <td>Clay County</td>\n",
       "      <td>3591</td>\n",
       "      <td>185385</td>\n",
       "      <td>289</td>\n",
       "      <td>10913</td>\n",
       "      <td>366</td>\n",
       "      <td>19562</td>\n",
       "      <td>77</td>\n",
       "      <td>2.144</td>\n",
       "    </tr>\n",
       "  </tbody>\n",
       "</table>\n",
       "<p>300 rows × 10 columns</p>\n",
       "</div>"
      ],
      "text/plain": [
       "     State              County  Returns Total  Total AGI  Outflow  \\\n",
       "1077    FL   Palm Beach County         553857   61273140    35233   \n",
       "420     ME  Piscataquis County           5832     274080      343   \n",
       "2623    ND        Grant County            914      45138       33   \n",
       "658     NC          Lee County          20169    1149838     1747   \n",
       "1980    ID      Fremont County           4127     191700      409   \n",
       "...    ...                 ...            ...        ...      ...   \n",
       "1887    GA        Bacon County           3142     153666      187   \n",
       "1960    MN     Nicollet County          12251     918488     1238   \n",
       "1269    KY        Wolfe County           1865      72166      107   \n",
       "242     NY     Hamilton County           2082     124074      122   \n",
       "217     NC         Clay County           3591     185385      289   \n",
       "\n",
       "      Outflow AGI  Inflow  Inflow AGI  Net Inflow(Outflow)  Percentage Flow  \n",
       "1077      2953481   37476     5417837                 2243            0.405  \n",
       "420         14073     425       17748                   82            1.406  \n",
       "2623         2028      22         961                  -11           -1.204  \n",
       "658         77209    1943      105291                  196            0.972  \n",
       "1980        18075     391       20034                  -18           -0.436  \n",
       "...           ...     ...         ...                  ...              ...  \n",
       "1887         5131     176        6209                  -11           -0.350  \n",
       "1960        68672    1187       54618                  -51           -0.416  \n",
       "1269         3560     111        3710                    4            0.214  \n",
       "242          5573     164        9967                   42            2.017  \n",
       "217         10913     366       19562                   77            2.144  \n",
       "\n",
       "[300 rows x 10 columns]"
      ]
     },
     "execution_count": 2,
     "metadata": {},
     "output_type": "execute_result"
    }
   ],
   "source": [
    "import numpy as np\n",
    "import pandas as pd\n",
    "import random \n",
    "import matplotlib.pyplot as plt\n",
    "\n",
    "final_flow = \"final_flow_data.csv\"\n",
    "\n",
    "random_df = pd.read_csv(final_flow)\n",
    "\n",
    "df_trimmed1 = random_df.sample(n=300)\n",
    "\n",
    "df_trimmed2 = random_df.sample(n=300)\n",
    "\n",
    "df_trimmed3 = random_df.sample(n=300)\n",
    "\n",
    "df_trimmed4 = random_df.sample(n=300)\n",
    "\n",
    "df_trimmed5 = random_df.sample(n=300)\n",
    "\n",
    "df_trimmed1\n",
    "\n",
    "\n",
    "\n"
   ]
  },
  {
   "cell_type": "code",
   "execution_count": 3,
   "metadata": {},
   "outputs": [],
   "source": [
    "percentages1 = df_trimmed1[\"Percentage Flow\"]\n",
    "percentages2 = df_trimmed2[\"Percentage Flow\"]\n",
    "percentages3 = df_trimmed3[\"Percentage Flow\"]\n",
    "percentages4 = df_trimmed4[\"Percentage Flow\"]\n",
    "percentages5 = df_trimmed5[\"Percentage Flow\"]\n",
    "\n"
   ]
  },
  {
   "cell_type": "code",
   "execution_count": 4,
   "metadata": {},
   "outputs": [
    {
     "data": {
      "image/png": "[encoded data removed]",
      "text/plain": [
       "<Figure size 432x288 with 1 Axes>"
      ]
     },
     "metadata": {
      "needs_background": "light"
     },
     "output_type": "display_data"
    }
   ],
   "source": [
    "fig1, ax1 = plt.subplots()\n",
    "ax1.set_title('Flow Percentages per county')\n",
    "ax1.set_ylabel('Percentage')\n",
    "ax1.boxplot(percentages1)\n",
    "plt.show()"
   ]
  },
  {
   "cell_type": "code",
   "execution_count": 5,
   "metadata": {},
   "outputs": [
    {
     "data": {
      "image/png": "[encoded data removed]",
      "text/plain": [
       "<Figure size 432x288 with 1 Axes>"
      ]
     },
     "metadata": {
      "needs_background": "light"
     },
     "output_type": "display_data"
    }
   ],
   "source": [
    "fig1, ax1 = plt.subplots()\n",
    "ax1.set_title('Flow Percentages per county')\n",
    "ax1.set_ylabel('Percentage')\n",
    "ax1.boxplot(percentages2)\n",
    "plt.show()"
   ]
  },
  {
   "cell_type": "code",
   "execution_count": 6,
   "metadata": {},
   "outputs": [
    {
     "data": {
      "image/png": "[encoded data removed]",
      "text/plain": [
       "<Figure size 432x288 with 1 Axes>"
      ]
     },
     "metadata": {
      "needs_background": "light"
     },
     "output_type": "display_data"
    }
   ],
   "source": [
    "fig1, ax1 = plt.subplots()\n",
    "ax1.set_title('Flow Percentages per county')\n",
    "ax1.set_ylabel('Percentage')\n",
    "ax1.boxplot(percentages3)\n",
    "plt.show()"
   ]
  },
  {
   "cell_type": "code",
   "execution_count": 7,
   "metadata": {},
   "outputs": [
    {
     "data": {
      "image/png": "[encoded data removed]",
      "text/plain": [
       "<Figure size 432x288 with 1 Axes>"
      ]
     },
     "metadata": {
      "needs_background": "light"
     },
     "output_type": "display_data"
    }
   ],
   "source": [
    "fig1, ax1 = plt.subplots()\n",
    "ax1.set_title('Flow Percentages per county')\n",
    "ax1.set_ylabel('Percentage')\n",
    "ax1.boxplot(percentages4)\n",
    "plt.show()"
   ]
  },
  {
   "cell_type": "code",
   "execution_count": 8,
   "metadata": {
    "scrolled": true
   },
   "outputs": [
    {
     "data": {
      "image/png": "[encoded data removed]",
      "text/plain": [
       "<Figure size 432x288 with 1 Axes>"
      ]
     },
     "metadata": {
      "needs_background": "light"
     },
     "output_type": "display_data"
    }
   ],
   "source": [
    "fig1, ax1 = plt.subplots()\n",
    "ax1.set_title('Flow Percentages per county')\n",
    "ax1.set_ylabel('Percentage')\n",
    "ax1.boxplot(percentages5)\n",
    "plt.show()"
   ]
  },
  {
   "cell_type": "code",
   "execution_count": 9,
   "metadata": {},
   "outputs": [],
   "source": [
    "df_trimmed1.to_csv('FinalRandom300.csv')"
   ]
  }
 ],
 "metadata": {
  "kernelspec": {
   "display_name": "Python 3",
   "language": "python",
   "name": "python3"
  },
  "language_info": {
   "codemirror_mode": {
    "name": "ipython",
    "version": 3
   },
   "file_extension": ".py",
   "mimetype": "text/x-python",
   "name": "python",
   "nbconvert_exporter": "python",
   "pygments_lexer": "ipython3",
   "version": "3.7.4"
  }
 },
 "nbformat": 4,
 "nbformat_minor": 2
}
