{
 "cells": [
  {
   "cell_type": "code",
   "execution_count": 13,
   "metadata": {},
   "outputs": [
    {
     "data": {
      "text/html": [
       "<div>\n",
       "<style scoped>\n",
       "    .dataframe tbody tr th:only-of-type {\n",
       "        vertical-align: middle;\n",
       "    }\n",
       "\n",
       "    .dataframe tbody tr th {\n",
       "        vertical-align: top;\n",
       "    }\n",
       "\n",
       "    .dataframe thead th {\n",
       "        text-align: right;\n",
       "    }\n",
       "</style>\n",
       "<table border=\"1\" class=\"dataframe\">\n",
       "  <thead>\n",
       "    <tr style=\"text-align: right;\">\n",
       "      <th></th>\n",
       "      <th>State</th>\n",
       "      <th>County</th>\n",
       "      <th>Returns Total</th>\n",
       "      <th>Total AGI</th>\n",
       "      <th>Outflow</th>\n",
       "      <th>Outflow AGI</th>\n",
       "      <th>Inflow</th>\n",
       "      <th>Inflow AGI</th>\n",
       "      <th>Net Inflow(Outflow)</th>\n",
       "      <th>Percentage Flow</th>\n",
       "    </tr>\n",
       "  </thead>\n",
       "  <tbody>\n",
       "    <tr>\n",
       "      <td>2997</td>\n",
       "      <td>NE</td>\n",
       "      <td>Wheeler County</td>\n",
       "      <td>304</td>\n",
       "      <td>13276</td>\n",
       "      <td>26</td>\n",
       "      <td>915</td>\n",
       "      <td>-1</td>\n",
       "      <td>-1</td>\n",
       "      <td>-27</td>\n",
       "      <td>-8.882</td>\n",
       "    </tr>\n",
       "    <tr>\n",
       "      <td>679</td>\n",
       "      <td>AL</td>\n",
       "      <td>Randolph County</td>\n",
       "      <td>7005</td>\n",
       "      <td>338958</td>\n",
       "      <td>412</td>\n",
       "      <td>22063</td>\n",
       "      <td>478</td>\n",
       "      <td>25455</td>\n",
       "      <td>66</td>\n",
       "      <td>0.942</td>\n",
       "    </tr>\n",
       "    <tr>\n",
       "      <td>3001</td>\n",
       "      <td>TX</td>\n",
       "      <td>Roberts County</td>\n",
       "      <td>275</td>\n",
       "      <td>17228</td>\n",
       "      <td>29</td>\n",
       "      <td>2415</td>\n",
       "      <td>-1</td>\n",
       "      <td>-1</td>\n",
       "      <td>-30</td>\n",
       "      <td>-10.909</td>\n",
       "    </tr>\n",
       "    <tr>\n",
       "      <td>2466</td>\n",
       "      <td>FL</td>\n",
       "      <td>Leon County</td>\n",
       "      <td>93546</td>\n",
       "      <td>6558668</td>\n",
       "      <td>8667</td>\n",
       "      <td>397498</td>\n",
       "      <td>7786</td>\n",
       "      <td>372634</td>\n",
       "      <td>-881</td>\n",
       "      <td>-0.942</td>\n",
       "    </tr>\n",
       "    <tr>\n",
       "      <td>505</td>\n",
       "      <td>MO</td>\n",
       "      <td>Miller County</td>\n",
       "      <td>7997</td>\n",
       "      <td>369653</td>\n",
       "      <td>626</td>\n",
       "      <td>20314</td>\n",
       "      <td>724</td>\n",
       "      <td>28863</td>\n",
       "      <td>98</td>\n",
       "      <td>1.225</td>\n",
       "    </tr>\n",
       "    <tr>\n",
       "      <td>...</td>\n",
       "      <td>...</td>\n",
       "      <td>...</td>\n",
       "      <td>...</td>\n",
       "      <td>...</td>\n",
       "      <td>...</td>\n",
       "      <td>...</td>\n",
       "      <td>...</td>\n",
       "      <td>...</td>\n",
       "      <td>...</td>\n",
       "      <td>...</td>\n",
       "    </tr>\n",
       "    <tr>\n",
       "      <td>2984</td>\n",
       "      <td>KS</td>\n",
       "      <td>Phillips County</td>\n",
       "      <td>2095</td>\n",
       "      <td>98592</td>\n",
       "      <td>150</td>\n",
       "      <td>5897</td>\n",
       "      <td>59</td>\n",
       "      <td>2057</td>\n",
       "      <td>-91</td>\n",
       "      <td>-4.344</td>\n",
       "    </tr>\n",
       "    <tr>\n",
       "      <td>950</td>\n",
       "      <td>GA</td>\n",
       "      <td>Fulton County</td>\n",
       "      <td>373518</td>\n",
       "      <td>44050557</td>\n",
       "      <td>46808</td>\n",
       "      <td>3543949</td>\n",
       "      <td>48914</td>\n",
       "      <td>3813753</td>\n",
       "      <td>2106</td>\n",
       "      <td>0.564</td>\n",
       "    </tr>\n",
       "    <tr>\n",
       "      <td>3000</td>\n",
       "      <td>TX</td>\n",
       "      <td>Borden County</td>\n",
       "      <td>210</td>\n",
       "      <td>19915</td>\n",
       "      <td>20</td>\n",
       "      <td>1114</td>\n",
       "      <td>-1</td>\n",
       "      <td>-1</td>\n",
       "      <td>-21</td>\n",
       "      <td>-10.000</td>\n",
       "    </tr>\n",
       "    <tr>\n",
       "      <td>1808</td>\n",
       "      <td>MS</td>\n",
       "      <td>Marshall County</td>\n",
       "      <td>11508</td>\n",
       "      <td>495605</td>\n",
       "      <td>921</td>\n",
       "      <td>35213</td>\n",
       "      <td>889</td>\n",
       "      <td>35102</td>\n",
       "      <td>-32</td>\n",
       "      <td>-0.278</td>\n",
       "    </tr>\n",
       "    <tr>\n",
       "      <td>1096</td>\n",
       "      <td>GA</td>\n",
       "      <td>Brantley County</td>\n",
       "      <td>4901</td>\n",
       "      <td>222414</td>\n",
       "      <td>355</td>\n",
       "      <td>11639</td>\n",
       "      <td>374</td>\n",
       "      <td>12369</td>\n",
       "      <td>19</td>\n",
       "      <td>0.388</td>\n",
       "    </tr>\n",
       "  </tbody>\n",
       "</table>\n",
       "<p>300 rows × 10 columns</p>\n",
       "</div>"
      ],
      "text/plain": [
       "     State            County  Returns Total  Total AGI  Outflow  Outflow AGI  \\\n",
       "2997    NE   Wheeler County             304      13276       26          915   \n",
       "679     AL  Randolph County            7005     338958      412        22063   \n",
       "3001    TX   Roberts County             275      17228       29         2415   \n",
       "2466    FL      Leon County           93546    6558668     8667       397498   \n",
       "505     MO    Miller County            7997     369653      626        20314   \n",
       "...    ...               ...            ...        ...      ...          ...   \n",
       "2984    KS  Phillips County            2095      98592      150         5897   \n",
       "950     GA    Fulton County          373518   44050557    46808      3543949   \n",
       "3000    TX    Borden County             210      19915       20         1114   \n",
       "1808    MS  Marshall County           11508     495605      921        35213   \n",
       "1096    GA  Brantley County            4901     222414      355        11639   \n",
       "\n",
       "      Inflow  Inflow AGI  Net Inflow(Outflow)  Percentage Flow  \n",
       "2997      -1          -1                  -27           -8.882  \n",
       "679      478       25455                   66            0.942  \n",
       "3001      -1          -1                  -30          -10.909  \n",
       "2466    7786      372634                 -881           -0.942  \n",
       "505      724       28863                   98            1.225  \n",
       "...      ...         ...                  ...              ...  \n",
       "2984      59        2057                  -91           -4.344  \n",
       "950    48914     3813753                 2106            0.564  \n",
       "3000      -1          -1                  -21          -10.000  \n",
       "1808     889       35102                  -32           -0.278  \n",
       "1096     374       12369                   19            0.388  \n",
       "\n",
       "[300 rows x 10 columns]"
      ]
     },
     "execution_count": 13,
     "metadata": {},
     "output_type": "execute_result"
    }
   ],
   "source": [
    "import numpy as np\n",
    "import pandas as pd\n",
    "import random \n",
    "import matplotlib.pyplot as plt\n",
    "\n",
    "final_flow = \"final_flow_data.csv\"\n",
    "\n",
    "random_df = pd.read_csv(final_flow)\n",
    "\n",
    "df_trimmed1 = random_df.sample(n=300)\n",
    "\n",
    "df_trimmed2 = random_df.sample(n=300)\n",
    "\n",
    "df_trimmed3 = random_df.sample(n=300)\n",
    "\n",
    "df_trimmed4 = random_df.sample(n=300)\n",
    "\n",
    "df_trimmed5 = random_df.sample(n=300)\n",
    "\n",
    "df_trimmed1\n",
    "\n",
    "\n",
    "\n"
   ]
  },
  {
   "cell_type": "code",
   "execution_count": 16,
   "metadata": {},
   "outputs": [],
   "source": [
    "percentages1 = df_trimmed1[\"Percentage Flow\"]\n",
    "percentages2 = df_trimmed2[\"Percentage Flow\"]\n",
    "percentages3 = df_trimmed3[\"Percentage Flow\"]\n",
    "percentages4 = df_trimmed4[\"Percentage Flow\"]\n",
    "percentages5 = df_trimmed5[\"Percentage Flow\"]\n",
    "\n"
   ]
  },
  {
   "cell_type": "code",
   "execution_count": 17,
   "metadata": {},
   "outputs": [
    {
     "data": {
      "image/png": "[encoded data removed]",
      "text/plain": [
       "<Figure size 432x288 with 1 Axes>"
      ]
     },
     "metadata": {
      "needs_background": "light"
     },
     "output_type": "display_data"
    }
   ],
   "source": [
    "fig1, ax1 = plt.subplots()\n",
    "ax1.set_title('Flow Percentages per county')\n",
    "ax1.set_ylabel('Percentage')\n",
    "ax1.boxplot(percentages1)\n",
    "plt.show()"
   ]
  },
  {
   "cell_type": "code",
   "execution_count": 18,
   "metadata": {},
   "outputs": [
    {
     "data": {
      "image/png": "[encoded data removed]",
      "text/plain": [
       "<Figure size 432x288 with 1 Axes>"
      ]
     },
     "metadata": {
      "needs_background": "light"
     },
     "output_type": "display_data"
    }
   ],
   "source": [
    "fig1, ax1 = plt.subplots()\n",
    "ax1.set_title('Flow Percentages per county')\n",
    "ax1.set_ylabel('Percentage')\n",
    "ax1.boxplot(percentages2)\n",
    "plt.show()"
   ]
  },
  {
   "cell_type": "code",
   "execution_count": 19,
   "metadata": {},
   "outputs": [
    {
     "data": {
      "image/png": "[encoded data removed]",
      "text/plain": [
       "<Figure size 432x288 with 1 Axes>"
      ]
     },
     "metadata": {
      "needs_background": "light"
     },
     "output_type": "display_data"
    }
   ],
   "source": [
    "fig1, ax1 = plt.subplots()\n",
    "ax1.set_title('Flow Percentages per county')\n",
    "ax1.set_ylabel('Percentage')\n",
    "ax1.boxplot(percentages3)\n",
    "plt.show()"
   ]
  },
  {
   "cell_type": "code",
   "execution_count": 20,
   "metadata": {},
   "outputs": [
    {
     "data": {
      "image/png": "[encoded data removed]",
      "text/plain": [
       "<Figure size 432x288 with 1 Axes>"
      ]
     },
     "metadata": {
      "needs_background": "light"
     },
     "output_type": "display_data"
    }
   ],
   "source": [
    "fig1, ax1 = plt.subplots()\n",
    "ax1.set_title('Flow Percentages per county')\n",
    "ax1.set_ylabel('Percentage')\n",
    "ax1.boxplot(percentages4)\n",
    "plt.show()"
   ]
  },
  {
   "cell_type": "code",
   "execution_count": 21,
   "metadata": {},
   "outputs": [
    {
     "data": {
      "image/png": "[encoded data removed]",
      "text/plain": [
       "<Figure size 432x288 with 1 Axes>"
      ]
     },
     "metadata": {
      "needs_background": "light"
     },
     "output_type": "display_data"
    }
   ],
   "source": [
    "fig1, ax1 = plt.subplots()\n",
    "ax1.set_title('Flow Percentages per county')\n",
    "ax1.set_ylabel('Percentage')\n",
    "ax1.boxplot(percentages5)\n",
    "plt.show()"
   ]
  },
  {
   "cell_type": "code",
   "execution_count": null,
   "metadata": {},
   "outputs": [],
   "source": []
  }
 ],
 "metadata": {
  "kernelspec": {
   "display_name": "Python 3",
   "language": "python",
   "name": "python3"
  },
  "language_info": {
   "codemirror_mode": {
    "name": "ipython",
    "version": 3
   },
   "file_extension": ".py",
   "mimetype": "text/x-python",
   "name": "python",
   "nbconvert_exporter": "python",
   "pygments_lexer": "ipython3",
   "version": "3.7.4"
  }
 },
 "nbformat": 4,
 "nbformat_minor": 2
}
