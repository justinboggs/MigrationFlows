{
 "cells": [
  {
   "cell_type": "code",
   "execution_count": 44,
   "metadata": {},
   "outputs": [],
   "source": [
    "#This is the starter notebook\n",
    "import pandas as pd\n",
    "\n",
    "'countyinflow1718.csv'\n",
    "\n",
    "county_inflow = 'countyinflow1718.csv'\n",
    "\n",
    "county_outflow = 'countyoutflow1718.csv'\n",
    "\n",
    "# Read Purchasing File and store into Pandas data frame\n",
    "outflow_df = pd.read_csv(county_outflow)\n",
    "\n",
    "inflow_df = pd.read_csv(county_inflow)\n",
    "\n",
    "#outflow_df = outflow_df[outflow_df['y2_countyname'].str.contains('County Non-migrants','County Total Migration-US and Foreign')]\n",
    "\n",
    "inflow_df = inflow_df[inflow_df['y1_countyname'].str.contains('County Non-migrants') | inflow_df['y1_countyname'].str.contains('County Total Migration-US and Foreign')]\n",
    "\n",
    "outflow_df = outflow_df[outflow_df['y2_countyname'].str.contains('County Non-migrants') | outflow_df['y2_countyname'].str.contains('County Total Migration-US and Foreign')]\n",
    "\n",
    "outflow_df = outflow_df.rename(columns = {\"y2_countyname\":\"outflow_county\",\"y2_state\":\"outflow_state\",\"n1\":\"outflow_n1\",\"n2\":\"outflow_n2\",\"agi_x\":\"outflow_agi\"})\n",
    "\n",
    "\n",
    "inflow_df = inflow_df.rename(columns = {\"y1_countyname\":\"inflow_county\",\"y1_state\":\"inflow_state\",\"n1\":\"inflow_n1\",\"n2\":\"inflow_n2\",\"agi_y\":\"inflow_agi\"})\n",
    "\n",
    "county_in_out_df = pd.merge(outflow_df,inflow_df,left_on=[\"outflow_state\",\"outflow_county\"],right_on=[\"inflow_state\",\"inflow_county\"])\n",
    "\n",
    "del county_in_out_df['y1_statefips_x']\n",
    "\n",
    "del county_in_out_df['y1_countyfips_x']\n",
    "\n",
    "del county_in_out_df['y2_statefips_x']\n",
    "\n",
    "del county_in_out_df['y2_countyfips_x']\n",
    "\n",
    "del county_in_out_df['y2_statefips_y']\n",
    "\n",
    "del county_in_out_df['y2_countyfips_y']\n",
    "\n",
    "del county_in_out_df['y1_statefips_y']\n",
    "\n",
    "del county_in_out_df['y1_countyfips_y']\n",
    "\n",
    "county_in_out_df\n",
    "\n",
    "county_in_out_df.to_csv(\"county_in_out.csv\")"
   ]
  },
  {
   "cell_type": "code",
   "execution_count": null,
   "metadata": {},
   "outputs": [],
   "source": []
  }
 ],
 "metadata": {
  "kernelspec": {
   "display_name": "Python 3",
   "language": "python",
   "name": "python3"
  },
  "language_info": {
   "codemirror_mode": {
    "name": "ipython",
    "version": 3
   },
   "file_extension": ".py",
   "mimetype": "text/x-python",
   "name": "python",
   "nbconvert_exporter": "python",
   "pygments_lexer": "ipython3",
   "version": "3.7.4"
  }
 },
 "nbformat": 4,
 "nbformat_minor": 2
}
