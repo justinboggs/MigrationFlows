{
 "cells": [
  {
   "cell_type": "code",
   "execution_count": 1,
   "metadata": {},
   "outputs": [],
   "source": [
    "#import dependencies\n",
    "import csv\n",
    "import matplotlib.pyplot as plt\n",
    "import pandas as pd\n",
    "import numpy as np\n",
    "import requests\n",
    "import time\n",
    "from scipy import stats\n",
    "from scipy.stats import linregress\n",
    "import gmaps\n",
    "import os\n",
    "import json\n",
    "import pprint as pprint"
   ]
  },
  {
   "cell_type": "code",
   "execution_count": 2,
   "metadata": {},
   "outputs": [
    {
     "data": {
      "text/html": [
       "<div>\n",
       "<style scoped>\n",
       "    .dataframe tbody tr th:only-of-type {\n",
       "        vertical-align: middle;\n",
       "    }\n",
       "\n",
       "    .dataframe tbody tr th {\n",
       "        vertical-align: top;\n",
       "    }\n",
       "\n",
       "    .dataframe thead th {\n",
       "        text-align: right;\n",
       "    }\n",
       "</style>\n",
       "<table border=\"1\" class=\"dataframe\">\n",
       "  <thead>\n",
       "    <tr style=\"text-align: right;\">\n",
       "      <th></th>\n",
       "      <th>State</th>\n",
       "      <th>County</th>\n",
       "      <th>Returns Total</th>\n",
       "      <th>Total AGI</th>\n",
       "      <th>Outflow</th>\n",
       "      <th>Outflow AGI</th>\n",
       "      <th>Inflow</th>\n",
       "      <th>Inflow AGI</th>\n",
       "      <th>Net Inflow(Outflow)</th>\n",
       "      <th>Flow(%)</th>\n",
       "      <th>Unemployment Rate(%)</th>\n",
       "      <th>1 Bed Average</th>\n",
       "      <th>2 Bed Average</th>\n",
       "      <th>Average Temp (F)</th>\n",
       "    </tr>\n",
       "  </thead>\n",
       "  <tbody>\n",
       "    <tr>\n",
       "      <td>0</td>\n",
       "      <td>ND</td>\n",
       "      <td>Stutsman County</td>\n",
       "      <td>8181</td>\n",
       "      <td>550847</td>\n",
       "      <td>536</td>\n",
       "      <td>27641</td>\n",
       "      <td>407</td>\n",
       "      <td>17169</td>\n",
       "      <td>-129</td>\n",
       "      <td>-1.577</td>\n",
       "      <td>2.5</td>\n",
       "      <td>565</td>\n",
       "      <td>752</td>\n",
       "      <td>41.1</td>\n",
       "    </tr>\n",
       "    <tr>\n",
       "      <td>1</td>\n",
       "      <td>PA</td>\n",
       "      <td>Northampton County</td>\n",
       "      <td>120678</td>\n",
       "      <td>9315273</td>\n",
       "      <td>7762</td>\n",
       "      <td>464493</td>\n",
       "      <td>8085</td>\n",
       "      <td>506568</td>\n",
       "      <td>323</td>\n",
       "      <td>0.268</td>\n",
       "      <td>4.4</td>\n",
       "      <td>877</td>\n",
       "      <td>1115</td>\n",
       "      <td>48.4</td>\n",
       "    </tr>\n",
       "    <tr>\n",
       "      <td>2</td>\n",
       "      <td>KS</td>\n",
       "      <td>Thomas County</td>\n",
       "      <td>2846</td>\n",
       "      <td>164805</td>\n",
       "      <td>232</td>\n",
       "      <td>9399</td>\n",
       "      <td>198</td>\n",
       "      <td>9487</td>\n",
       "      <td>-34</td>\n",
       "      <td>-1.195</td>\n",
       "      <td>2.6</td>\n",
       "      <td>580</td>\n",
       "      <td>697</td>\n",
       "      <td>51.4</td>\n",
       "    </tr>\n",
       "    <tr>\n",
       "      <td>3</td>\n",
       "      <td>MS</td>\n",
       "      <td>Tallahatchie County</td>\n",
       "      <td>3899</td>\n",
       "      <td>147824</td>\n",
       "      <td>247</td>\n",
       "      <td>7241</td>\n",
       "      <td>188</td>\n",
       "      <td>5560</td>\n",
       "      <td>-59</td>\n",
       "      <td>-1.513</td>\n",
       "      <td>5.3</td>\n",
       "      <td>520</td>\n",
       "      <td>691</td>\n",
       "      <td>62.6</td>\n",
       "    </tr>\n",
       "    <tr>\n",
       "      <td>4</td>\n",
       "      <td>KY</td>\n",
       "      <td>Owsley County</td>\n",
       "      <td>1059</td>\n",
       "      <td>38986</td>\n",
       "      <td>43</td>\n",
       "      <td>1137</td>\n",
       "      <td>45</td>\n",
       "      <td>1556</td>\n",
       "      <td>2</td>\n",
       "      <td>0.189</td>\n",
       "      <td>7.1</td>\n",
       "      <td>493</td>\n",
       "      <td>620</td>\n",
       "      <td>55.3</td>\n",
       "    </tr>\n",
       "  </tbody>\n",
       "</table>\n",
       "</div>"
      ],
      "text/plain": [
       "  State               County  Returns Total  Total AGI  Outflow  Outflow AGI  \\\n",
       "0    ND      Stutsman County           8181     550847      536        27641   \n",
       "1    PA   Northampton County         120678    9315273     7762       464493   \n",
       "2    KS        Thomas County           2846     164805      232         9399   \n",
       "3    MS  Tallahatchie County           3899     147824      247         7241   \n",
       "4    KY        Owsley County           1059      38986       43         1137   \n",
       "\n",
       "   Inflow  Inflow AGI  Net Inflow(Outflow)  Flow(%)  Unemployment Rate(%)  \\\n",
       "0     407       17169                 -129   -1.577                   2.5   \n",
       "1    8085      506568                  323    0.268                   4.4   \n",
       "2     198        9487                  -34   -1.195                   2.6   \n",
       "3     188        5560                  -59   -1.513                   5.3   \n",
       "4      45        1556                    2    0.189                   7.1   \n",
       "\n",
       "   1 Bed Average  2 Bed Average  Average Temp (F)  \n",
       "0            565            752              41.1  \n",
       "1            877           1115              48.4  \n",
       "2            580            697              51.4  \n",
       "3            520            691              62.6  \n",
       "4            493            620              55.3  "
      ]
     },
     "execution_count": 2,
     "metadata": {},
     "output_type": "execute_result"
    }
   ],
   "source": [
    "sample_data = pd.read_csv('output_data/sample_300.csv')\n",
    "sample_data.head()"
   ]
  },
  {
   "cell_type": "code",
   "execution_count": 3,
   "metadata": {},
   "outputs": [],
   "source": [
    "flow_values = sample_data['Flow(%)']\n",
    "employ_values = sample_data['Unemployment Rate(%)']\n",
    "temp_values = sample_data['Average Temp (F)']"
   ]
  },
  {
   "cell_type": "code",
   "execution_count": null,
   "metadata": {},
   "outputs": [],
   "source": []
  },
  {
   "cell_type": "code",
   "execution_count": 4,
   "metadata": {},
   "outputs": [
    {
     "data": {
      "text/plain": [
       "Text(0, 0.5, 'Temperature (F)')"
      ]
     },
     "execution_count": 4,
     "metadata": {},
     "output_type": "execute_result"
    },
    {
     "data": {
      "image/png": "[encoded data removed]",
      "text/plain": [
       "<Figure size 432x288 with 1 Axes>"
      ]
     },
     "metadata": {
      "needs_background": "light"
     },
     "output_type": "display_data"
    }
   ],
   "source": [
    "#latitude vs temperature\n",
    "plt.scatter(flow_values, employ_values, marker='o', facecolors='grey', edgecolors='black')\n",
    "plt.title('Migration Rate vs Unemployment Rate')\n",
    "plt.xlabel('Latitude')\n",
    "plt.ylabel('Temperature (F)')\n",
    "#save the plot to an image file\n",
    "#plt.savefig('output_data/lat_temp_plt.png')"
   ]
  },
  {
   "cell_type": "code",
   "execution_count": 5,
   "metadata": {},
   "outputs": [
    {
     "data": {
      "text/plain": [
       "Text(0, 0.5, 'Temperature (F)')"
      ]
     },
     "execution_count": 5,
     "metadata": {},
     "output_type": "execute_result"
    },
    {
     "data": {
      "image/png": "[encoded data removed]",
      "text/plain": [
       "<Figure size 432x288 with 1 Axes>"
      ]
     },
     "metadata": {
      "needs_background": "light"
     },
     "output_type": "display_data"
    }
   ],
   "source": [
    "#latitude vs temperature\n",
    "plt.scatter(flow_values, temp_values, marker='o', facecolors='grey', edgecolors='black')\n",
    "plt.title('Migration Rate vs Average Temperature (F)')\n",
    "plt.xlabel('Latitude')\n",
    "plt.ylabel('Temperature (F)')\n",
    "#save the plot to an image file\n",
    "#plt.savefig('output_data/lat_temp_plt.png')"
   ]
  },
  {
   "cell_type": "code",
   "execution_count": null,
   "metadata": {},
   "outputs": [],
   "source": []
  }
 ],
 "metadata": {
  "kernelspec": {
   "display_name": "Python 3",
   "language": "python",
   "name": "python3"
  },
  "language_info": {
   "codemirror_mode": {
    "name": "ipython",
    "version": 3
   },
   "file_extension": ".py",
   "mimetype": "text/x-python",
   "name": "python",
   "nbconvert_exporter": "python",
   "pygments_lexer": "ipython3",
   "version": "3.7.4"
  }
 },
 "nbformat": 4,
 "nbformat_minor": 2
}
