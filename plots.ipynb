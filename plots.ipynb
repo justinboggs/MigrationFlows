{
 "cells": [
  {
   "cell_type": "code",
   "execution_count": 1,
   "metadata": {},
   "outputs": [],
   "source": [
    "#import dependencies\n",
    "import csv\n",
    "import matplotlib.pyplot as plt\n",
    "import pandas as pd\n",
    "import numpy as np\n",
    "import requests\n",
    "import time\n",
    "import scipy.stats as sts\n",
    "from scipy import stats\n",
    "from scipy.stats import linregress\n",
    "import gmaps\n",
    "import os\n",
    "import json\n",
    "import pprint as pprint\n",
    "import seaborn as sn\n",
    "from sklearn import datasets, linear_model\n",
    "from sklearn.linear_model import LinearRegression\n",
    "import statsmodels.api as sm"
   ]
  },
  {
   "cell_type": "code",
   "execution_count": 2,
   "metadata": {},
   "outputs": [
    {
     "data": {
      "text/html": [
       "<div>\n",
       "<style scoped>\n",
       "    .dataframe tbody tr th:only-of-type {\n",
       "        vertical-align: middle;\n",
       "    }\n",
       "\n",
       "    .dataframe tbody tr th {\n",
       "        vertical-align: top;\n",
       "    }\n",
       "\n",
       "    .dataframe thead th {\n",
       "        text-align: right;\n",
       "    }\n",
       "</style>\n",
       "<table border=\"1\" class=\"dataframe\">\n",
       "  <thead>\n",
       "    <tr style=\"text-align: right;\">\n",
       "      <th></th>\n",
       "      <th>State</th>\n",
       "      <th>County</th>\n",
       "      <th>Returns Total</th>\n",
       "      <th>Total AGI</th>\n",
       "      <th>Outflow</th>\n",
       "      <th>Outflow AGI</th>\n",
       "      <th>Inflow</th>\n",
       "      <th>Inflow AGI</th>\n",
       "      <th>Net Inflow(Outflow)</th>\n",
       "      <th>Flow(%)</th>\n",
       "      <th>Unemployment Rate(%)</th>\n",
       "      <th>1 Bed Average</th>\n",
       "      <th>2 Bed Average</th>\n",
       "      <th>Highest Marginal Income Tax Rate (%)</th>\n",
       "      <th>Median Home Price 2017</th>\n",
       "    </tr>\n",
       "  </thead>\n",
       "  <tbody>\n",
       "    <tr>\n",
       "      <td>0</td>\n",
       "      <td>CA</td>\n",
       "      <td>Los Angeles County</td>\n",
       "      <td>3732877</td>\n",
       "      <td>330740878</td>\n",
       "      <td>154210</td>\n",
       "      <td>11436416</td>\n",
       "      <td>120440</td>\n",
       "      <td>8511638</td>\n",
       "      <td>-33770</td>\n",
       "      <td>-0.905</td>\n",
       "      <td>4.7</td>\n",
       "      <td>1388</td>\n",
       "      <td>1798</td>\n",
       "      <td>12.30</td>\n",
       "      <td>647932</td>\n",
       "    </tr>\n",
       "    <tr>\n",
       "      <td>1</td>\n",
       "      <td>IL</td>\n",
       "      <td>Cook County</td>\n",
       "      <td>2011039</td>\n",
       "      <td>178442056</td>\n",
       "      <td>100145</td>\n",
       "      <td>8657421</td>\n",
       "      <td>77478</td>\n",
       "      <td>5723827</td>\n",
       "      <td>-22667</td>\n",
       "      <td>-1.127</td>\n",
       "      <td>4.0</td>\n",
       "      <td>1099</td>\n",
       "      <td>1279</td>\n",
       "      <td>4.95</td>\n",
       "      <td>260542</td>\n",
       "    </tr>\n",
       "    <tr>\n",
       "      <td>2</td>\n",
       "      <td>TX</td>\n",
       "      <td>Harris County</td>\n",
       "      <td>1519470</td>\n",
       "      <td>120110671</td>\n",
       "      <td>93935</td>\n",
       "      <td>6744329</td>\n",
       "      <td>82339</td>\n",
       "      <td>5181538</td>\n",
       "      <td>-11596</td>\n",
       "      <td>-0.763</td>\n",
       "      <td>4.4</td>\n",
       "      <td>936</td>\n",
       "      <td>1146</td>\n",
       "      <td>0.00</td>\n",
       "      <td>187271</td>\n",
       "    </tr>\n",
       "    <tr>\n",
       "      <td>3</td>\n",
       "      <td>AZ</td>\n",
       "      <td>Maricopa County</td>\n",
       "      <td>1471961</td>\n",
       "      <td>117024435</td>\n",
       "      <td>67741</td>\n",
       "      <td>4328950</td>\n",
       "      <td>88231</td>\n",
       "      <td>6573244</td>\n",
       "      <td>20490</td>\n",
       "      <td>1.392</td>\n",
       "      <td>4.1</td>\n",
       "      <td>870</td>\n",
       "      <td>1082</td>\n",
       "      <td>4.54</td>\n",
       "      <td>285478</td>\n",
       "    </tr>\n",
       "    <tr>\n",
       "      <td>4</td>\n",
       "      <td>CA</td>\n",
       "      <td>San Diego County</td>\n",
       "      <td>1248474</td>\n",
       "      <td>110803163</td>\n",
       "      <td>71198</td>\n",
       "      <td>4891830</td>\n",
       "      <td>67893</td>\n",
       "      <td>4650336</td>\n",
       "      <td>-3305</td>\n",
       "      <td>-0.265</td>\n",
       "      <td>3.3</td>\n",
       "      <td>1400</td>\n",
       "      <td>1816</td>\n",
       "      <td>12.30</td>\n",
       "      <td>611062</td>\n",
       "    </tr>\n",
       "  </tbody>\n",
       "</table>\n",
       "</div>"
      ],
      "text/plain": [
       "  State              County  Returns Total  Total AGI  Outflow  Outflow AGI  \\\n",
       "0    CA  Los Angeles County        3732877  330740878   154210     11436416   \n",
       "1    IL         Cook County        2011039  178442056   100145      8657421   \n",
       "2    TX       Harris County        1519470  120110671    93935      6744329   \n",
       "3    AZ     Maricopa County        1471961  117024435    67741      4328950   \n",
       "4    CA    San Diego County        1248474  110803163    71198      4891830   \n",
       "\n",
       "   Inflow  Inflow AGI  Net Inflow(Outflow)  Flow(%)  Unemployment Rate(%)  \\\n",
       "0  120440     8511638               -33770   -0.905                   4.7   \n",
       "1   77478     5723827               -22667   -1.127                   4.0   \n",
       "2   82339     5181538               -11596   -0.763                   4.4   \n",
       "3   88231     6573244                20490    1.392                   4.1   \n",
       "4   67893     4650336                -3305   -0.265                   3.3   \n",
       "\n",
       "   1 Bed Average  2 Bed Average  Highest Marginal Income Tax Rate (%)  \\\n",
       "0           1388           1798                                 12.30   \n",
       "1           1099           1279                                  4.95   \n",
       "2            936           1146                                  0.00   \n",
       "3            870           1082                                  4.54   \n",
       "4           1400           1816                                 12.30   \n",
       "\n",
       "   Median Home Price 2017  \n",
       "0                  647932  \n",
       "1                  260542  \n",
       "2                  187271  \n",
       "3                  285478  \n",
       "4                  611062  "
      ]
     },
     "execution_count": 2,
     "metadata": {},
     "output_type": "execute_result"
    }
   ],
   "source": [
    "sample_data = pd.read_csv('output_data/top_50.csv')\n",
    "sample_data.head()"
   ]
  },
  {
   "cell_type": "code",
   "execution_count": 3,
   "metadata": {
    "scrolled": false
   },
   "outputs": [
    {
     "data": {
      "text/plain": [
       "(array([ 1.,  2.,  4.,  2.,  5.,  7., 11.,  2.,  4.,  4.,  1.,  2.,  2.,\n",
       "         1.,  0.]),\n",
       " array([-2.  , -1.75, -1.5 , -1.25, -1.  , -0.75, -0.5 , -0.25,  0.  ,\n",
       "         0.25,  0.5 ,  0.75,  1.  ,  1.25,  1.5 ,  1.75]),\n",
       " <a list of 15 Patch objects>)"
      ]
     },
     "execution_count": 3,
     "metadata": {},
     "output_type": "execute_result"
    },
    {
     "data": {
      "image/png": "[encoded data removed]",
      "text/plain": [
       "<Figure size 432x288 with 1 Axes>"
      ]
     },
     "metadata": {
      "needs_background": "light"
     },
     "output_type": "display_data"
    }
   ],
   "source": [
    "# Visualize distribution of dependent variable to get an understanding of our dependent variable's distribution \n",
    "bins = np.arange(-2.0, 2.0, 0.25)\n",
    "plt.hist(sample_data[\"Flow(%)\"], bins=bins)"
   ]
  },
  {
   "cell_type": "code",
   "execution_count": 4,
   "metadata": {
    "scrolled": false
   },
   "outputs": [
    {
     "data": {
      "text/html": [
       "<div>\n",
       "<style scoped>\n",
       "    .dataframe tbody tr th:only-of-type {\n",
       "        vertical-align: middle;\n",
       "    }\n",
       "\n",
       "    .dataframe tbody tr th {\n",
       "        vertical-align: top;\n",
       "    }\n",
       "\n",
       "    .dataframe thead th {\n",
       "        text-align: right;\n",
       "    }\n",
       "</style>\n",
       "<table border=\"1\" class=\"dataframe\">\n",
       "  <thead>\n",
       "    <tr style=\"text-align: right;\">\n",
       "      <th></th>\n",
       "      <th>Total AGI</th>\n",
       "      <th>Flow(%)</th>\n",
       "      <th>Unemployment Rate(%)</th>\n",
       "      <th>1 Bed Average</th>\n",
       "      <th>2 Bed Average</th>\n",
       "      <th>Highest Marginal Income Tax Rate (%)</th>\n",
       "      <th>Median Home Price 2017</th>\n",
       "    </tr>\n",
       "  </thead>\n",
       "  <tbody>\n",
       "    <tr>\n",
       "      <td>Total AGI</td>\n",
       "      <td>1.000000</td>\n",
       "      <td>-0.241353</td>\n",
       "      <td>0.052825</td>\n",
       "      <td>0.333386</td>\n",
       "      <td>0.362729</td>\n",
       "      <td>0.241977</td>\n",
       "      <td>0.466211</td>\n",
       "    </tr>\n",
       "    <tr>\n",
       "      <td>Flow(%)</td>\n",
       "      <td>-0.241353</td>\n",
       "      <td>1.000000</td>\n",
       "      <td>0.007675</td>\n",
       "      <td>-0.521377</td>\n",
       "      <td>-0.491975</td>\n",
       "      <td>-0.270379</td>\n",
       "      <td>-0.406334</td>\n",
       "    </tr>\n",
       "    <tr>\n",
       "      <td>Unemployment Rate(%)</td>\n",
       "      <td>0.052825</td>\n",
       "      <td>0.007675</td>\n",
       "      <td>1.000000</td>\n",
       "      <td>-0.235094</td>\n",
       "      <td>-0.254997</td>\n",
       "      <td>0.009760</td>\n",
       "      <td>-0.304324</td>\n",
       "    </tr>\n",
       "    <tr>\n",
       "      <td>1 Bed Average</td>\n",
       "      <td>0.333386</td>\n",
       "      <td>-0.521377</td>\n",
       "      <td>-0.235094</td>\n",
       "      <td>1.000000</td>\n",
       "      <td>0.991624</td>\n",
       "      <td>0.515023</td>\n",
       "      <td>0.896094</td>\n",
       "    </tr>\n",
       "    <tr>\n",
       "      <td>2 Bed Average</td>\n",
       "      <td>0.362729</td>\n",
       "      <td>-0.491975</td>\n",
       "      <td>-0.254997</td>\n",
       "      <td>0.991624</td>\n",
       "      <td>1.000000</td>\n",
       "      <td>0.525387</td>\n",
       "      <td>0.898952</td>\n",
       "    </tr>\n",
       "    <tr>\n",
       "      <td>Highest Marginal Income Tax Rate (%)</td>\n",
       "      <td>0.241977</td>\n",
       "      <td>-0.270379</td>\n",
       "      <td>0.009760</td>\n",
       "      <td>0.515023</td>\n",
       "      <td>0.525387</td>\n",
       "      <td>1.000000</td>\n",
       "      <td>0.601128</td>\n",
       "    </tr>\n",
       "    <tr>\n",
       "      <td>Median Home Price 2017</td>\n",
       "      <td>0.466211</td>\n",
       "      <td>-0.406334</td>\n",
       "      <td>-0.304324</td>\n",
       "      <td>0.896094</td>\n",
       "      <td>0.898952</td>\n",
       "      <td>0.601128</td>\n",
       "      <td>1.000000</td>\n",
       "    </tr>\n",
       "  </tbody>\n",
       "</table>\n",
       "</div>"
      ],
      "text/plain": [
       "                                      Total AGI   Flow(%)  \\\n",
       "Total AGI                              1.000000 -0.241353   \n",
       "Flow(%)                               -0.241353  1.000000   \n",
       "Unemployment Rate(%)                   0.052825  0.007675   \n",
       "1 Bed Average                          0.333386 -0.521377   \n",
       "2 Bed Average                          0.362729 -0.491975   \n",
       "Highest Marginal Income Tax Rate (%)   0.241977 -0.270379   \n",
       "Median Home Price 2017                 0.466211 -0.406334   \n",
       "\n",
       "                                      Unemployment Rate(%)  1 Bed Average  \\\n",
       "Total AGI                                         0.052825       0.333386   \n",
       "Flow(%)                                           0.007675      -0.521377   \n",
       "Unemployment Rate(%)                              1.000000      -0.235094   \n",
       "1 Bed Average                                    -0.235094       1.000000   \n",
       "2 Bed Average                                    -0.254997       0.991624   \n",
       "Highest Marginal Income Tax Rate (%)              0.009760       0.515023   \n",
       "Median Home Price 2017                           -0.304324       0.896094   \n",
       "\n",
       "                                      2 Bed Average  \\\n",
       "Total AGI                                  0.362729   \n",
       "Flow(%)                                   -0.491975   \n",
       "Unemployment Rate(%)                      -0.254997   \n",
       "1 Bed Average                              0.991624   \n",
       "2 Bed Average                              1.000000   \n",
       "Highest Marginal Income Tax Rate (%)       0.525387   \n",
       "Median Home Price 2017                     0.898952   \n",
       "\n",
       "                                      Highest Marginal Income Tax Rate (%)  \\\n",
       "Total AGI                                                         0.241977   \n",
       "Flow(%)                                                          -0.270379   \n",
       "Unemployment Rate(%)                                              0.009760   \n",
       "1 Bed Average                                                     0.515023   \n",
       "2 Bed Average                                                     0.525387   \n",
       "Highest Marginal Income Tax Rate (%)                              1.000000   \n",
       "Median Home Price 2017                                            0.601128   \n",
       "\n",
       "                                      Median Home Price 2017  \n",
       "Total AGI                                           0.466211  \n",
       "Flow(%)                                            -0.406334  \n",
       "Unemployment Rate(%)                               -0.304324  \n",
       "1 Bed Average                                       0.896094  \n",
       "2 Bed Average                                       0.898952  \n",
       "Highest Marginal Income Tax Rate (%)                0.601128  \n",
       "Median Home Price 2017                              1.000000  "
      ]
     },
     "execution_count": 4,
     "metadata": {},
     "output_type": "execute_result"
    }
   ],
   "source": [
    "# Run correlation matrix to get a view of which independent variables may be most significant \n",
    "\n",
    "correlations_df =sample_data.drop(columns=['Returns Total', 'Outflow', 'Outflow AGI', 'Inflow', 'Inflow AGI', 'Net Inflow(Outflow)'])\n",
    "\n",
    "corr_matrix = correlations_df.corr()\n",
    "corr_matrix"
   ]
  },
  {
   "cell_type": "markdown",
   "metadata": {},
   "source": [
    "Based on the correlation matrix, the three independent variables \"1 Bed Average\", \"2 Bed Average\", and \"Median Home Price 2017\" may have the most significance for predicting \"Flow(%)\". Below, we will test that significance in both Multivariate Regression Analyses and Univariate Regression Analyses. \n",
    "\n",
    "A variety of multivariate regression models have been run to examine the effect of removing 1 or 2 of the three independent variables mentioned above. These are singled-out due to their having the highest correlations to the \"Flow(%)\", as well as due to their having a high correlation with each other. "
   ]
  },
  {
   "cell_type": "code",
   "execution_count": 5,
   "metadata": {
    "scrolled": false
   },
   "outputs": [
    {
     "name": "stdout",
     "output_type": "stream",
     "text": [
      "                            OLS Regression Results                            \n",
      "==============================================================================\n",
      "Dep. Variable:                Flow(%)   R-squared:                       0.359\n",
      "Model:                            OLS   Adj. R-squared:                  0.270\n",
      "Method:                 Least Squares   F-statistic:                     4.022\n",
      "Date:                Fri, 31 Jan 2020   Prob (F-statistic):            0.00277\n",
      "Time:                        19:14:32   Log-Likelihood:                -50.943\n",
      "No. Observations:                  50   AIC:                             115.9\n",
      "Df Residuals:                      43   BIC:                             129.3\n",
      "Df Model:                           6                                         \n",
      "Covariance Type:            nonrobust                                         \n",
      "========================================================================================================\n",
      "                                           coef    std err          t      P>|t|      [0.025      0.975]\n",
      "--------------------------------------------------------------------------------------------------------\n",
      "const                                    1.1931      0.754      1.583      0.121      -0.327       2.713\n",
      "Total AGI                            -3.669e-09    2.5e-09     -1.467      0.150   -8.71e-09    1.38e-09\n",
      "Unemployment Rate(%)                     0.0179      0.172      0.105      0.917      -0.328       0.364\n",
      "1 Bed Average                           -0.0054      0.002     -2.485      0.017      -0.010      -0.001\n",
      "2 Bed Average                            0.0031      0.002      1.716      0.093      -0.001       0.007\n",
      "Highest Marginal Income Tax Rate (%)    -0.0216      0.031     -0.694      0.491      -0.084       0.041\n",
      "Median Home Price 2017                1.818e-06   1.28e-06      1.419      0.163   -7.66e-07     4.4e-06\n",
      "==============================================================================\n",
      "Omnibus:                        1.192   Durbin-Watson:                   1.317\n",
      "Prob(Omnibus):                  0.551   Jarque-Bera (JB):                0.874\n",
      "Skew:                           0.324   Prob(JB):                        0.646\n",
      "Kurtosis:                       2.974   Cond. No.                     6.55e+08\n",
      "==============================================================================\n",
      "\n",
      "Warnings:\n",
      "[1] Standard Errors assume that the covariance matrix of the errors is correctly specified.\n",
      "[2] The condition number is large, 6.55e+08. This might indicate that there are\n",
      "strong multicollinearity or other numerical problems.\n"
     ]
    },
    {
     "name": "stderr",
     "output_type": "stream",
     "text": [
      "C:\\Users\\josep\\Anaconda3\\lib\\site-packages\\numpy\\core\\fromnumeric.py:2389: FutureWarning: Method .ptp is deprecated and will be removed in a future version. Use numpy.ptp instead.\n",
      "  return ptp(axis=axis, out=out, **kwargs)\n"
     ]
    }
   ],
   "source": [
    "# Run multivariate regression analysis to check significance of entire set of independent variables\n",
    "\n",
    "# Create x and y values \n",
    "x_val = sample_data[[\"Total AGI\",\"Unemployment Rate(%)\",\"1 Bed Average\",\"2 Bed Average\",\"Highest Marginal Income Tax Rate (%)\",\"Median Home Price 2017\"]]\n",
    "y_val = sample_data[[\"Flow(%)\"]]\n",
    "\n",
    "# Create Ordinary Least Squares linear regression analysis\n",
    "X2 = sm.add_constant(x_val)\n",
    "est = sm.OLS(y_val, X2)\n",
    "est2 = est.fit()\n",
    "print(est2.summary())"
   ]
  },
  {
   "cell_type": "code",
   "execution_count": 6,
   "metadata": {
    "scrolled": false
   },
   "outputs": [
    {
     "name": "stdout",
     "output_type": "stream",
     "text": [
      "                            OLS Regression Results                            \n",
      "==============================================================================\n",
      "Dep. Variable:                Flow(%)   R-squared:                       0.268\n",
      "Model:                            OLS   Adj. R-squared:                  0.184\n",
      "Method:                 Least Squares   F-statistic:                     3.214\n",
      "Date:                Fri, 31 Jan 2020   Prob (F-statistic):             0.0147\n",
      "Time:                        19:14:32   Log-Likelihood:                -54.297\n",
      "No. Observations:                  50   AIC:                             120.6\n",
      "Df Residuals:                      44   BIC:                             132.1\n",
      "Df Model:                           5                                         \n",
      "Covariance Type:            nonrobust                                         \n",
      "========================================================================================================\n",
      "                                           coef    std err          t      P>|t|      [0.025      0.975]\n",
      "--------------------------------------------------------------------------------------------------------\n",
      "const                                    1.5722      0.780      2.015      0.050      -0.001       3.145\n",
      "Total AGI                            -1.561e-09   2.49e-09     -0.627      0.534   -6.57e-09    3.45e-09\n",
      "Unemployment Rate(%)                    -0.1022      0.174     -0.587      0.560      -0.453       0.249\n",
      "2 Bed Average                           -0.0012      0.001     -2.280      0.027      -0.002      -0.000\n",
      "Highest Marginal Income Tax Rate (%)    -0.0071      0.032     -0.219      0.828      -0.072       0.058\n",
      "Median Home Price 2017                9.118e-07    1.3e-06      0.702      0.486   -1.71e-06    3.53e-06\n",
      "==============================================================================\n",
      "Omnibus:                        1.352   Durbin-Watson:                   1.344\n",
      "Prob(Omnibus):                  0.509   Jarque-Bera (JB):                1.342\n",
      "Skew:                           0.360   Prob(JB):                        0.511\n",
      "Kurtosis:                       2.646   Cond. No.                     6.41e+08\n",
      "==============================================================================\n",
      "\n",
      "Warnings:\n",
      "[1] Standard Errors assume that the covariance matrix of the errors is correctly specified.\n",
      "[2] The condition number is large, 6.41e+08. This might indicate that there are\n",
      "strong multicollinearity or other numerical problems.\n"
     ]
    }
   ],
   "source": [
    "# Entire set of independent variables, ex- \"1 Bed Average\"\n",
    "\n",
    "# Create x and y values\n",
    "x_val = sample_data[[\"Total AGI\",\"Unemployment Rate(%)\",\"2 Bed Average\",\"Highest Marginal Income Tax Rate (%)\",\"Median Home Price 2017\"]]\n",
    "y_val = sample_data[[\"Flow(%)\"]]\n",
    "\n",
    "# Create Ordinary Least Squares linear regression analysis\n",
    "X = sm.add_constant(x_val)\n",
    "est = sm.OLS(y_val, X)\n",
    "est2 = est.fit()\n",
    "print(est2.summary())"
   ]
  },
  {
   "cell_type": "code",
   "execution_count": 7,
   "metadata": {
    "scrolled": false
   },
   "outputs": [
    {
     "name": "stdout",
     "output_type": "stream",
     "text": [
      "                            OLS Regression Results                            \n",
      "==============================================================================\n",
      "Dep. Variable:                Flow(%)   R-squared:                       0.316\n",
      "Model:                            OLS   Adj. R-squared:                  0.238\n",
      "Method:                 Least Squares   F-statistic:                     4.059\n",
      "Date:                Fri, 31 Jan 2020   Prob (F-statistic):            0.00408\n",
      "Time:                        19:14:32   Log-Likelihood:                -52.598\n",
      "No. Observations:                  50   AIC:                             117.2\n",
      "Df Residuals:                      44   BIC:                             128.7\n",
      "Df Model:                           5                                         \n",
      "Covariance Type:            nonrobust                                         \n",
      "========================================================================================================\n",
      "                                           coef    std err          t      P>|t|      [0.025      0.975]\n",
      "--------------------------------------------------------------------------------------------------------\n",
      "const                                    1.5881      0.733      2.165      0.036       0.110       3.066\n",
      "Total AGI                             -2.46e-09   2.45e-09     -1.003      0.321    -7.4e-09    2.48e-09\n",
      "Unemployment Rate(%)                    -0.0539      0.170     -0.317      0.753      -0.397       0.289\n",
      "1 Bed Average                           -0.0018      0.001     -2.943      0.005      -0.003      -0.001\n",
      "Highest Marginal Income Tax Rate (%)    -0.0131      0.031     -0.417      0.679      -0.076       0.050\n",
      "Median Home Price 2017                1.703e-06   1.31e-06      1.302      0.200   -9.32e-07    4.34e-06\n",
      "==============================================================================\n",
      "Omnibus:                        1.351   Durbin-Watson:                   1.348\n",
      "Prob(Omnibus):                  0.509   Jarque-Bera (JB):                1.362\n",
      "Skew:                           0.333   Prob(JB):                        0.506\n",
      "Kurtosis:                       2.542   Cond. No.                     6.24e+08\n",
      "==============================================================================\n",
      "\n",
      "Warnings:\n",
      "[1] Standard Errors assume that the covariance matrix of the errors is correctly specified.\n",
      "[2] The condition number is large, 6.24e+08. This might indicate that there are\n",
      "strong multicollinearity or other numerical problems.\n"
     ]
    }
   ],
   "source": [
    "# Entire set of independent variables, ex- \"2 Bed Average\"\n",
    "\n",
    "# Create x and y values\n",
    "x_val = sample_data[[\"Total AGI\",\"Unemployment Rate(%)\",\"1 Bed Average\",\"Highest Marginal Income Tax Rate (%)\",\"Median Home Price 2017\"]]\n",
    "y_val = sample_data[[\"Flow(%)\"]]\n",
    "\n",
    "# Create linear regression analysis\n",
    "X = sm.add_constant(x_val)\n",
    "est = sm.OLS(y_val, X)\n",
    "est2 = est.fit()\n",
    "print(est2.summary())"
   ]
  },
  {
   "cell_type": "code",
   "execution_count": 8,
   "metadata": {
    "scrolled": false
   },
   "outputs": [
    {
     "name": "stdout",
     "output_type": "stream",
     "text": [
      "                            OLS Regression Results                            \n",
      "==============================================================================\n",
      "Dep. Variable:                Flow(%)   R-squared:                       0.330\n",
      "Model:                            OLS   Adj. R-squared:                  0.253\n",
      "Method:                 Least Squares   F-statistic:                     4.325\n",
      "Date:                Fri, 31 Jan 2020   Prob (F-statistic):            0.00275\n",
      "Time:                        19:14:32   Log-Likelihood:                -52.086\n",
      "No. Observations:                  50   AIC:                             116.2\n",
      "Df Residuals:                      44   BIC:                             127.6\n",
      "Df Model:                           5                                         \n",
      "Covariance Type:            nonrobust                                         \n",
      "========================================================================================================\n",
      "                                           coef    std err          t      P>|t|      [0.025      0.975]\n",
      "--------------------------------------------------------------------------------------------------------\n",
      "const                                    1.1975      0.762      1.571      0.123      -0.339       2.734\n",
      "Total AGI                            -2.046e-09   2.25e-09     -0.909      0.368   -6.58e-09    2.49e-09\n",
      "Unemployment Rate(%)                    -0.0762      0.160     -0.476      0.636      -0.399       0.246\n",
      "1 Bed Average                           -0.0046      0.002     -2.146      0.037      -0.009      -0.000\n",
      "2 Bed Average                            0.0030      0.002      1.625      0.111      -0.001       0.007\n",
      "Highest Marginal Income Tax Rate (%)    -0.0024      0.028     -0.085      0.933      -0.059       0.055\n",
      "==============================================================================\n",
      "Omnibus:                        3.250   Durbin-Watson:                   1.288\n",
      "Prob(Omnibus):                  0.197   Jarque-Bera (JB):                2.337\n",
      "Skew:                           0.504   Prob(JB):                        0.311\n",
      "Kurtosis:                       3.327   Cond. No.                     6.55e+08\n",
      "==============================================================================\n",
      "\n",
      "Warnings:\n",
      "[1] Standard Errors assume that the covariance matrix of the errors is correctly specified.\n",
      "[2] The condition number is large, 6.55e+08. This might indicate that there are\n",
      "strong multicollinearity or other numerical problems.\n"
     ]
    }
   ],
   "source": [
    "# Entire set of independent variables, ex- \"Median Home Price 2017\"\n",
    "\n",
    "# Create x and y values\n",
    "x_val = sample_data[[\"Total AGI\",\"Unemployment Rate(%)\",\"1 Bed Average\",\"2 Bed Average\",\"Highest Marginal Income Tax Rate (%)\"]]\n",
    "y_val = sample_data[[\"Flow(%)\"]]\n",
    "\n",
    "# Create Ordinary Least Squares linear regression analysis\n",
    "X = sm.add_constant(x_val)\n",
    "est = sm.OLS(y_val, X)\n",
    "est2 = est.fit()\n",
    "print(est2.summary())"
   ]
  },
  {
   "cell_type": "code",
   "execution_count": 9,
   "metadata": {
    "scrolled": false
   },
   "outputs": [
    {
     "name": "stdout",
     "output_type": "stream",
     "text": [
      "                            OLS Regression Results                            \n",
      "==============================================================================\n",
      "Dep. Variable:                Flow(%)   R-squared:                       0.289\n",
      "Model:                            OLS   Adj. R-squared:                  0.226\n",
      "Method:                 Least Squares   F-statistic:                     4.579\n",
      "Date:                Fri, 31 Jan 2020   Prob (F-statistic):            0.00346\n",
      "Time:                        19:14:32   Log-Likelihood:                -53.544\n",
      "No. Observations:                  50   AIC:                             117.1\n",
      "Df Residuals:                      45   BIC:                             126.6\n",
      "Df Model:                           4                                         \n",
      "Covariance Type:            nonrobust                                         \n",
      "========================================================================================================\n",
      "                                           coef    std err          t      P>|t|      [0.025      0.975]\n",
      "--------------------------------------------------------------------------------------------------------\n",
      "const                                    1.5762      0.739      2.133      0.038       0.088       3.065\n",
      "Total AGI                            -9.855e-10   2.19e-09     -0.450      0.655    -5.4e-09    3.43e-09\n",
      "Unemployment Rate(%)                    -0.1395      0.158     -0.882      0.382      -0.458       0.179\n",
      "1 Bed Average                           -0.0011      0.000     -3.403      0.001      -0.002      -0.000\n",
      "Highest Marginal Income Tax Rate (%)     0.0046      0.028      0.161      0.872      -0.053       0.062\n",
      "==============================================================================\n",
      "Omnibus:                        2.498   Durbin-Watson:                   1.307\n",
      "Prob(Omnibus):                  0.287   Jarque-Bera (JB):                2.060\n",
      "Skew:                           0.497   Prob(JB):                        0.357\n",
      "Kurtosis:                       2.962   Cond. No.                     6.24e+08\n",
      "==============================================================================\n",
      "\n",
      "Warnings:\n",
      "[1] Standard Errors assume that the covariance matrix of the errors is correctly specified.\n",
      "[2] The condition number is large, 6.24e+08. This might indicate that there are\n",
      "strong multicollinearity or other numerical problems.\n"
     ]
    }
   ],
   "source": [
    "# Entire set of independent variables, ex- \"2 Bed Average\" and \"Median Home Price 2017\"\n",
    "\n",
    "# Create x and y values \n",
    "x_val = sample_data[[\"Total AGI\",\"Unemployment Rate(%)\",\"1 Bed Average\",\"Highest Marginal Income Tax Rate (%)\"]]\n",
    "y_val = sample_data[[\"Flow(%)\"]]\n",
    "\n",
    "# Create Ordinary Least Squares linear regression analysis\n",
    "X = sm.add_constant(x_val)\n",
    "est = sm.OLS(y_val, X)\n",
    "est2 = est.fit()\n",
    "print(est2.summary())"
   ]
  },
  {
   "cell_type": "markdown",
   "metadata": {},
   "source": [
    "Based on the above multivariate linear regression analysis, the two factors with the lowest p-values are \"1 Bed Average\" and \"2 Bed Average\", the \"1 Bedroom Average\" is the only statistically significant independent variable (as part of the multivariate regression model). These two values are shown first in the scatterplots and linear regression visualizations, and the \"Median Home Price 2017\" variable, given that it had the third highest correlation to \"Flow(%)\" is shown third. Other variables are also shown for illustrative purposes to demonstrate our findings. "
   ]
  },
  {
   "cell_type": "code",
   "execution_count": 10,
   "metadata": {},
   "outputs": [],
   "source": [
    "#Datasets \n",
    "flow_values = sample_data['Flow(%)']\n",
    "employ_values = sample_data['Unemployment Rate(%)']\n",
    "agi_values = sample_data['Total AGI']\n",
    "state_tax_values = sample_data['Highest Marginal Income Tax Rate (%)']\n",
    "home_price_values = sample_data['Median Home Price 2017']\n",
    "rent_cost_1bed = sample_data[\"1 Bed Average\"]\n",
    "rent_cost_2bed = sample_data[\"2 Bed Average\"]"
   ]
  },
  {
   "cell_type": "code",
   "execution_count": 11,
   "metadata": {},
   "outputs": [
    {
     "data": {
      "image/png": "[encoded data removed]",
      "text/plain": [
       "<Figure size 432x288 with 1 Axes>"
      ]
     },
     "metadata": {
      "needs_background": "light"
     },
     "output_type": "display_data"
    }
   ],
   "source": [
    "#Rent (1 bedroom) vs Flows\n",
    "plt.scatter(rent_cost_1bed, flow_values, marker='o', facecolors='grey', edgecolors='black')\n",
    "plt.title('Migration Rate vs Rent Cost (1bed)')\n",
    "plt.xlabel('Rent Cost (1bed)')\n",
    "plt.ylabel('Migration Rate')\n",
    "#save the plot to an image file\n",
    "plt.savefig('output_data/migration_1bedrent.png')"
   ]
  },
  {
   "cell_type": "code",
   "execution_count": 12,
   "metadata": {},
   "outputs": [
    {
     "data": {
      "image/png": "[encoded data removed]",
      "text/plain": [
       "<Figure size 432x288 with 1 Axes>"
      ]
     },
     "metadata": {
      "needs_background": "light"
     },
     "output_type": "display_data"
    }
   ],
   "source": [
    "#Rent (2 bedroom) vs Flows\n",
    "plt.scatter(rent_cost_2bed, flow_values, marker='o', facecolors='grey', edgecolors='black')\n",
    "plt.title('Migration Rate vs Rent Cost (2bed)')\n",
    "plt.xlabel('Rent Cost (2bed)')\n",
    "plt.ylabel('Migration Rate')\n",
    "#save the plot to an image file\n",
    "plt.savefig('output_data/migration_2bedrent.png')"
   ]
  },
  {
   "cell_type": "code",
   "execution_count": 13,
   "metadata": {},
   "outputs": [
    {
     "data": {
      "image/png": "[encoded data removed]",
      "text/plain": [
       "<Figure size 432x288 with 1 Axes>"
      ]
     },
     "metadata": {
      "needs_background": "light"
     },
     "output_type": "display_data"
    }
   ],
   "source": [
    "#inflows/outflows vs Median home price\n",
    "plt.scatter(home_price_values, flow_values, marker='o', facecolors='grey', edgecolors='black')\n",
    "plt.title('Migration Rate vs Median Home Price')\n",
    "plt.xlabel('Median Home Price')\n",
    "plt.ylabel('Migration Rate')\n",
    "plt.xticks(rotation=90)\n",
    "#save the plot to an image file\n",
    "plt.savefig('output_data/migration_home.png')"
   ]
  },
  {
   "cell_type": "code",
   "execution_count": 14,
   "metadata": {},
   "outputs": [
    {
     "data": {
      "image/png": "[encoded data removed]",
      "text/plain": [
       "<Figure size 432x288 with 1 Axes>"
      ]
     },
     "metadata": {
      "needs_background": "light"
     },
     "output_type": "display_data"
    }
   ],
   "source": [
    "#Unemployment vs Flows\n",
    "plt.scatter(employ_values, flow_values, marker='o', facecolors='grey', edgecolors='black')\n",
    "plt.title('Migration Rate vs Unemployment Rate')\n",
    "plt.xlabel('Unemployment Rate')\n",
    "plt.ylabel('Migration Rate')\n",
    "#save the plot to an image file\n",
    "plt.savefig('output_data/migration_unemploy.png')"
   ]
  },
  {
   "cell_type": "code",
   "execution_count": 15,
   "metadata": {},
   "outputs": [
    {
     "data": {
      "image/png": "[encoded data removed]",
      "text/plain": [
       "<Figure size 432x288 with 1 Axes>"
      ]
     },
     "metadata": {
      "needs_background": "light"
     },
     "output_type": "display_data"
    }
   ],
   "source": [
    "#Gross Income vs Flows\n",
    "plt.scatter(agi_values, flow_values, marker='o', facecolors='grey', edgecolors='black')\n",
    "plt.title('Migration Rate vs Gross Income')\n",
    "plt.xlabel('Gross Income (hundred thousands)')\n",
    "plt.ylabel('Migration Rate')\n",
    "#save the plot to an image file\n",
    "plt.savefig('output_data/migration_income.png')"
   ]
  },
  {
   "cell_type": "code",
   "execution_count": 16,
   "metadata": {
    "scrolled": true
   },
   "outputs": [
    {
     "data": {
      "image/png": "[encoded data removed]",
      "text/plain": [
       "<Figure size 432x288 with 1 Axes>"
      ]
     },
     "metadata": {
      "needs_background": "light"
     },
     "output_type": "display_data"
    }
   ],
   "source": [
    "# Income Tax vs Flows\n",
    "plt.scatter(state_tax_values, flow_values, marker='o', facecolors='grey', edgecolors='black')\n",
    "plt.title('Migration Rate vs State Income Tax')\n",
    "plt.xlabel('Highest Income Tax Rate')\n",
    "plt.ylabel('Migration Rate')\n",
    "#save the plot to an image file\n",
    "plt.savefig('output_data/migration_tax.png')"
   ]
  },
  {
   "cell_type": "code",
   "execution_count": 17,
   "metadata": {},
   "outputs": [
    {
     "name": "stdout",
     "output_type": "stream",
     "text": [
      "The r-value is: -0.5213772770791867\n",
      "The p-value is: 0.00010341656368435993\n",
      "This variable is statistically significant based on a univariate regression.\n"
     ]
    },
    {
     "data": {
      "image/png": "[encoded data removed]",
      "text/plain": [
       "<Figure size 432x288 with 1 Axes>"
      ]
     },
     "metadata": {
      "needs_background": "light"
     },
     "output_type": "display_data"
    }
   ],
   "source": [
    "# 1 Bedroom rent cost \n",
    "x_values = sample_data['1 Bed Average']\n",
    "y_values = sample_data['Flow(%)']\n",
    "(slope, intercept, rvalue, pvalue, stderr) = linregress(x_values, y_values)\n",
    "regress_values = x_values * slope + intercept\n",
    "line_eq = \"y = \" + str(round(slope,4)) + \"x + \" + str(round(intercept,2))\n",
    "plt.scatter(x_values,y_values)\n",
    "plt.plot(x_values,regress_values,\"r-\")\n",
    "plt.annotate(line_eq,(6,10),fontsize=15,color=\"red\")\n",
    "plt.xlabel('1 Bedroom Average Cost')\n",
    "plt.ylabel('Flow(%)')\n",
    "print(f\"The r-value is: {rvalue}\")\n",
    "print(f\"The p-value is: {pvalue}\")\n",
    "if pvalue < 0.05:\n",
    "    print(f\"This variable is statistically significant based on a univariate regression.\")\n",
    "plt.savefig('output_data/migration_1bed_regress.png')"
   ]
  },
  {
   "cell_type": "code",
   "execution_count": 18,
   "metadata": {},
   "outputs": [
    {
     "name": "stdout",
     "output_type": "stream",
     "text": [
      "The r-value is: -0.49197548153563997\n",
      "The p-value is: 0.0002848709833402682\n",
      "This variable is statistically significant based on a univariate regression.\n"
     ]
    },
    {
     "data": {
      "image/png": "[encoded data removed]",
      "text/plain": [
       "<Figure size 432x288 with 1 Axes>"
      ]
     },
     "metadata": {
      "needs_background": "light"
     },
     "output_type": "display_data"
    }
   ],
   "source": [
    "# 2 Bedroom rent cost \n",
    "x_values = sample_data['2 Bed Average']\n",
    "y_values = sample_data['Flow(%)']\n",
    "(slope, intercept, rvalue, pvalue, stderr) = linregress(x_values, y_values)\n",
    "regress_values = x_values * slope + intercept\n",
    "line_eq = \"y = \" + str(round(slope,2)) + \"x + \" + str(round(intercept,2))\n",
    "plt.scatter(x_values,y_values)\n",
    "plt.plot(x_values,regress_values,\"r-\")\n",
    "plt.annotate(line_eq,(6,10),fontsize=15,color=\"red\")\n",
    "plt.xlabel('2 Bedroom Average Cost')\n",
    "plt.ylabel('Flow(%)')\n",
    "print(f\"The r-value is: {rvalue}\")\n",
    "print(f\"The p-value is: {pvalue}\")\n",
    "if pvalue < 0.05:\n",
    "    print(f\"This variable is statistically significant based on a univariate regression.\")\n",
    "plt.savefig('output_data/migration_2bed_regress.png')"
   ]
  },
  {
   "cell_type": "code",
   "execution_count": 19,
   "metadata": {
    "scrolled": false
   },
   "outputs": [
    {
     "name": "stdout",
     "output_type": "stream",
     "text": [
      "The r-value is: -0.4063336104919423\n",
      "The p-value is: 0.003411307810251468\n",
      "This variable is statistically significant based on a univariate regression.\n"
     ]
    },
    {
     "data": {
      "image/png": "[encoded data removed]",
      "text/plain": [
       "<Figure size 432x288 with 1 Axes>"
      ]
     },
     "metadata": {
      "needs_background": "light"
     },
     "output_type": "display_data"
    }
   ],
   "source": [
    "# Median Home Price\n",
    "x_values = sample_data['Median Home Price 2017']\n",
    "y_values = sample_data['Flow(%)']\n",
    "(slope, intercept, rvalue, pvalue, stderr) = linregress(x_values, y_values)\n",
    "regress_values = x_values * slope + intercept\n",
    "line_eq = \"y = \" + str(round(slope,2)) + \"x + \" + str(round(intercept,2))\n",
    "plt.scatter(x_values,y_values)\n",
    "plt.plot(x_values,regress_values,\"r-\")\n",
    "plt.annotate(line_eq,(6,10),fontsize=15,color=\"red\")\n",
    "plt.xlabel('Median Home Price')\n",
    "plt.ylabel('Flow(%)')\n",
    "print(f\"The r-value is: {rvalue}\")\n",
    "print(f\"The p-value is: {pvalue}\")\n",
    "if pvalue < 0.05:\n",
    "    print(f\"This variable is statistically significant based on a univariate regression.\")\n",
    "plt.savefig('output_data/migration_home_regress.png')"
   ]
  },
  {
   "cell_type": "code",
   "execution_count": 20,
   "metadata": {},
   "outputs": [
    {
     "name": "stdout",
     "output_type": "stream",
     "text": [
      "The r-value is: 0.00767469475802832\n",
      "The p-value is: 0.9578144300819248\n"
     ]
    },
    {
     "data": {
      "image/png": "[encoded data removed]",
      "text/plain": [
       "<Figure size 432x288 with 1 Axes>"
      ]
     },
     "metadata": {
      "needs_background": "light"
     },
     "output_type": "display_data"
    }
   ],
   "source": [
    "# Unemployment rate\n",
    "x_values = sample_data['Unemployment Rate(%)']\n",
    "y_values = sample_data['Flow(%)']\n",
    "(slope, intercept, rvalue, pvalue, stderr) = linregress(x_values, y_values)\n",
    "regress_values = x_values * slope + intercept\n",
    "line_eq = \"y = \" + str(round(slope,2)) + \"x + \" + str(round(intercept,2))\n",
    "plt.scatter(x_values,y_values)\n",
    "plt.plot(x_values,regress_values,\"r-\")\n",
    "plt.annotate(line_eq,(6,10),fontsize=15,color=\"red\")\n",
    "plt.xlabel('Unemployment Rate(%)')\n",
    "plt.ylabel('Flow(%)')\n",
    "print(f\"The r-value is: {rvalue}\")\n",
    "print(f\"The p-value is: {pvalue}\")\n",
    "if pvalue < 0.05:\n",
    "    print(f\"This variable is statistically significant based on a univariate regression.\")\n",
    "plt.savefig('output_data/migration_employ_regress.png')"
   ]
  },
  {
   "cell_type": "code",
   "execution_count": 21,
   "metadata": {},
   "outputs": [
    {
     "name": "stdout",
     "output_type": "stream",
     "text": [
      "The r-value is: -0.24135279715633354\n",
      "The p-value is: 0.09131143399205327\n"
     ]
    },
    {
     "data": {
      "image/png": "[encoded data removed]",
      "text/plain": [
       "<Figure size 432x288 with 1 Axes>"
      ]
     },
     "metadata": {
      "needs_background": "light"
     },
     "output_type": "display_data"
    }
   ],
   "source": [
    "# Total AGI\n",
    "x_values = sample_data['Total AGI']\n",
    "y_values = sample_data['Flow(%)']\n",
    "(slope, intercept, rvalue, pvalue, stderr) = linregress(x_values, y_values)\n",
    "regress_values = x_values * slope + intercept\n",
    "line_eq = \"y = \" + str(round(slope,2)) + \"x + \" + str(round(intercept,2))\n",
    "plt.scatter(x_values,y_values)\n",
    "plt.plot(x_values,regress_values,\"r-\")\n",
    "plt.annotate(line_eq,(6,10),fontsize=15,color=\"red\")\n",
    "plt.xlabel('Total AGI(Hundred Thousands)')\n",
    "plt.ylabel('Flow(%)')\n",
    "print(f\"The r-value is: {rvalue}\")\n",
    "print(f\"The p-value is: {pvalue}\")\n",
    "if pvalue < 0.05:\n",
    "    print(f\"This variable is statistically significant based on a univariate regression.\")\n",
    "plt.savefig('output_data/migration_income_regress.png')"
   ]
  },
  {
   "cell_type": "code",
   "execution_count": 22,
   "metadata": {},
   "outputs": [
    {
     "name": "stdout",
     "output_type": "stream",
     "text": [
      "The r-value is: -0.2703785777408326\n",
      "The p-value is: 0.05755828110805285\n"
     ]
    },
    {
     "data": {
      "image/png": "[encoded data removed]",
      "text/plain": [
       "<Figure size 432x288 with 1 Axes>"
      ]
     },
     "metadata": {
      "needs_background": "light"
     },
     "output_type": "display_data"
    }
   ],
   "source": [
    "# Tax rate\n",
    "x_values = sample_data['Highest Marginal Income Tax Rate (%)']\n",
    "y_values = sample_data['Flow(%)']\n",
    "(slope, intercept, rvalue, pvalue, stderr) = linregress(x_values, y_values)\n",
    "regress_values = x_values * slope + intercept\n",
    "line_eq = \"y = \" + str(round(slope,2)) + \"x + \" + str(round(intercept,2))\n",
    "plt.scatter(x_values,y_values)\n",
    "plt.plot(x_values,regress_values,\"r-\")\n",
    "plt.annotate(line_eq,(6,10),fontsize=15,color=\"red\")\n",
    "plt.xlabel('Tax Rate %')\n",
    "plt.ylabel('Flow(%)')\n",
    "print(f\"The r-value is: {rvalue}\")\n",
    "print(f\"The p-value is: {pvalue}\")\n",
    "if pvalue < 0.05:\n",
    "    print(f\"This variable is statistically significant based on a univariate regression.\")\n",
    "plt.savefig('output_data/migration_tax_regress.png')"
   ]
  }
 ],
 "metadata": {
  "kernelspec": {
   "display_name": "Python 3",
   "language": "python",
   "name": "python3"
  },
  "language_info": {
   "codemirror_mode": {
    "name": "ipython",
    "version": 3
   },
   "file_extension": ".py",
   "mimetype": "text/x-python",
   "name": "python",
   "nbconvert_exporter": "python",
   "pygments_lexer": "ipython3",
   "version": "3.7.4"
  }
 },
 "nbformat": 4,
 "nbformat_minor": 2
}
